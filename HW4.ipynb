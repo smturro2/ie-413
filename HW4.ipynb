{
 "cells": [
  {
   "cell_type": "code",
   "execution_count": 14,
   "id": "92a9b35b-8e5d-4e6a-bc53-b7b4d140b346",
   "metadata": {},
   "outputs": [],
   "source": [
    "import pandas as pd\n",
    "import numpy as np\n",
    "from collections import Counter\n",
    "\n",
    "np.random.seed(13342)"
   ]
  },
  {
   "cell_type": "code",
   "execution_count": 15,
   "id": "8bab0b5f-3ace-41d2-8099-54b17da3868f",
   "metadata": {},
   "outputs": [],
   "source": [
    "A = np.array([1,2,3,4,5,6])\n",
    "B = np.array([1,1,1,1,8,9])\n",
    "C = np.array([2,2,3,4,5,5])\n",
    "D = np.array([1,2,2,2,7,7]) \n",
    "E = np.array([1,2,2,3,4,9])\n",
    "F = np.array([3,3,3,4,4,4])\n",
    "G = np.array([2,2,2,2,4,9])\n",
    "H = np.array([1,1,1,5,6,7])\n",
    "I = np.array([2,2,3,4,4,6])\n"
   ]
  },
  {
   "cell_type": "code",
   "execution_count": 16,
   "id": "507124da-cfa6-446c-83b6-f7ab34355b28",
   "metadata": {},
   "outputs": [],
   "source": [
    "def compare_rolls(all_dice, names, num_iter = 1000):\n",
    "    \n",
    "    # Wins, ties, max roll, and num tie participant storage\n",
    "    counts = Counter()\n",
    "    tie_counts = Counter()\n",
    "    max_roll_counts = Counter()\n",
    "    xway_tie_counts = Counter()\n",
    "    \n",
    "    for i in range(num_iter):\n",
    "\n",
    "        # Random choice\n",
    "        rolls = list(map(np.random.choice, all_dice))\n",
    "    \n",
    "        # Store rolls, get max, and loc winning dice\n",
    "        roll_storage = pd.DataFrame(data = rolls, index = names, columns = [\"Roll\"])\n",
    "        max_roll = roll_storage.max().item()\n",
    "        winners = roll_storage.loc[roll_storage['Roll'] == max_roll]\n",
    "        \n",
    "        # Count distribution of winning roll\n",
    "        max_roll_counts[max_roll] += 1\n",
    "        \n",
    "        # Count distribution of ties with shared equity and wins\n",
    "        if len(winners.index) > 1:\n",
    "            xway_tie_counts[len(winners.index)] += 1\n",
    "            for i in winners.index:\n",
    "                tie_counts[i] += 1 / len(winners.index)\n",
    "        else:\n",
    "            for i in winners.index:\n",
    "                counts[i] += 1\n",
    "    \n",
    "    return counts, tie_counts, max_roll_counts, xway_tie_counts"
   ]
  },
  {
   "cell_type": "code",
   "execution_count": 17,
   "id": "a85be462-12f3-4868-8412-e5f2c2f650e3",
   "metadata": {},
   "outputs": [],
   "source": [
    "list_of_dice = [A,B,C,D,E,F,G,H,I]\n",
    "list_of_names = [\"A\", \"B\", \"C\", \"D\", \"E\", \"F\", \"G\", \"H\", \"I\"]"
   ]
  },
  {
   "cell_type": "code",
   "execution_count": 18,
   "id": "755ff03c-2beb-4542-9f0c-6a61265cb968",
   "metadata": {},
   "outputs": [
    {
     "name": "stdout",
     "output_type": "stream",
     "text": [
      "Wins only:\n"
     ]
    },
    {
     "data": {
      "text/plain": [
       "[('B', 2296),\n",
       " ('D', 1249),\n",
       " ('E', 1183),\n",
       " ('G', 1171),\n",
       " ('H', 1125),\n",
       " ('A', 497),\n",
       " ('C', 316),\n",
       " ('I', 309),\n",
       " ('F', 70)]"
      ]
     },
     "metadata": {},
     "output_type": "display_data"
    },
    {
     "name": "stdout",
     "output_type": "stream",
     "text": [
      "\n",
      "Shared ties included:\n"
     ]
    },
    {
     "data": {
      "text/plain": [
       "[('B', 2546.3333333333335),\n",
       " ('E', 1474.7),\n",
       " ('G', 1446.2333333333333),\n",
       " ('H', 1394.1666666666667),\n",
       " ('D', 1369.5),\n",
       " ('A', 683.1500000000002),\n",
       " ('C', 465.8166666666666),\n",
       " ('I', 447.69999999999993),\n",
       " ('F', 172.39999999999986)]"
      ]
     },
     "metadata": {},
     "output_type": "display_data"
    }
   ],
   "source": [
    "wins, ties, max_rolls, xway_ties = compare_rolls(list_of_dice, list_of_names, num_iter = 10000)\n",
    "total = wins + ties\n",
    "\n",
    "sorted_wins = wins.most_common()\n",
    "sorted_ties = ties.most_common()\n",
    "sorted_total = total.most_common()\n",
    "print(\"Wins only:\")\n",
    "display(sorted_wins)\n",
    "print(\"\\nShared ties included:\")\n",
    "display(sorted_total)"
   ]
  },
  {
   "cell_type": "code",
   "execution_count": 19,
   "id": "6bb64bc9-2a64-4765-989c-a2166b8d8e5f",
   "metadata": {},
   "outputs": [
    {
     "name": "stdout",
     "output_type": "stream",
     "text": [
      "Max roll distribution:\n"
     ]
    },
    {
     "data": {
      "text/plain": [
       "[(9, 4214), (7, 2049), (8, 1146), (6, 1140), (5, 900), (4, 494), (3, 57)]"
      ]
     },
     "metadata": {},
     "output_type": "display_data"
    },
    {
     "name": "stdout",
     "output_type": "stream",
     "text": [
      "\n",
      "Xway tie distribution:\n"
     ]
    },
    {
     "data": {
      "text/plain": [
       "[(2, 1541), (3, 215), (4, 26), (5, 2)]"
      ]
     },
     "metadata": {},
     "output_type": "display_data"
    }
   ],
   "source": [
    "print(\"Max roll distribution:\")\n",
    "display(max_rolls.most_common())\n",
    "print(\"\\nXway tie distribution:\")\n",
    "display(xway_ties.most_common())"
   ]
  },
  {
   "cell_type": "markdown",
   "id": "36bc8510-47fe-46aa-a763-99e90fe6e9e1",
   "metadata": {},
   "source": [
    "## Testing with Optimal Die"
   ]
  },
  {
   "cell_type": "code",
   "execution_count": 20,
   "id": "28edc312-f6bd-4a26-b61a-fe7f91f7f931",
   "metadata": {},
   "outputs": [],
   "source": [
    "opt = np.array([1,1,1,1,8,9])\n",
    "opt_list_of_dice = [A,B,C,D,E,F,G,H,I,opt]\n",
    "opt_names = list_of_names + [\"opt\"]"
   ]
  },
  {
   "cell_type": "code",
   "execution_count": 21,
   "id": "16ba425c-6540-4d8e-9e30-10cd6d3d6d29",
   "metadata": {},
   "outputs": [
    {
     "name": "stdout",
     "output_type": "stream",
     "text": [
      "Wins only:\n"
     ]
    },
    {
     "data": {
      "text/plain": [
       "[('opt', 876),\n",
       " ('B', 869),\n",
       " ('G', 518),\n",
       " ('E', 489),\n",
       " ('D', 419),\n",
       " ('H', 335),\n",
       " ('A', 165),\n",
       " ('I', 103),\n",
       " ('C', 98),\n",
       " ('F', 20)]"
      ]
     },
     "metadata": {},
     "output_type": "display_data"
    },
    {
     "name": "stdout",
     "output_type": "stream",
     "text": [
      "\n",
      "Shared ties included:\n"
     ]
    },
    {
     "data": {
      "text/plain": [
       "[('opt', 1091.2500000000002),\n",
       " ('B', 1075.9166666666667),\n",
       " ('G', 685.4000000000001),\n",
       " ('E', 655.9500000000002),\n",
       " ('D', 463.5),\n",
       " ('H', 429.8333333333333),\n",
       " ('A', 229.95000000000002),\n",
       " ('I', 158.56666666666672),\n",
       " ('C', 151.98333333333335),\n",
       " ('F', 57.650000000000006)]"
      ]
     },
     "metadata": {},
     "output_type": "display_data"
    }
   ],
   "source": [
    "o_wins, o_ties, o_max_rolls, o_xway_ties = compare_rolls(opt_list_of_dice, opt_names, num_iter = 5000)\n",
    "o_total = o_wins + o_ties\n",
    "\n",
    "o_sorted_wins = o_wins.most_common()\n",
    "o_sorted_ties = o_ties.most_common()\n",
    "o_sorted_total = o_total.most_common()\n",
    "print(\"Wins only:\")\n",
    "display(o_sorted_wins)\n",
    "print(\"\\nShared ties included:\")\n",
    "display(o_sorted_total)"
   ]
  },
  {
   "cell_type": "code",
   "execution_count": 22,
   "id": "f6e5a507-89d7-4c1c-a187-8cc34684937c",
   "metadata": {},
   "outputs": [
    {
     "name": "stdout",
     "output_type": "stream",
     "text": [
      "Max roll distribution:\n"
     ]
    },
    {
     "data": {
      "text/plain": [
       "[(9, 2610), (8, 865), (7, 669), (6, 372), (5, 289), (4, 171), (3, 24)]"
      ]
     },
     "metadata": {},
     "output_type": "display_data"
    },
    {
     "name": "stdout",
     "output_type": "stream",
     "text": [
      "\n",
      "Xway tie distribution:\n"
     ]
    },
    {
     "data": {
      "text/plain": [
       "[(2, 952), (3, 140), (4, 14), (5, 2)]"
      ]
     },
     "metadata": {},
     "output_type": "display_data"
    }
   ],
   "source": [
    "print(\"Max roll distribution:\")\n",
    "display(o_max_rolls.most_common())\n",
    "print(\"\\nXway tie distribution:\")\n",
    "display(o_xway_ties.most_common())"
   ]
  },
  {
   "cell_type": "markdown",
   "id": "06c9e12e-818b-49f4-802d-2944829d1c3c",
   "metadata": {},
   "source": [
    "# Bonus Question"
   ]
  },
  {
   "cell_type": "markdown",
   "id": "66ab7412-480d-4d3c-bcb4-bf439dd46024",
   "metadata": {},
   "source": [
    "Let $\\vec S$ be our vector of values for the dice"
   ]
  },
  {
   "cell_type": "markdown",
   "id": "829187ed-db9b-4b3b-a0d8-ed5f1a315e29",
   "metadata": {},
   "source": [
    "$$ \\max_\\vec S \\Pr(\\text{Win} | \\vec S)$$"
   ]
  },
  {
   "cell_type": "markdown",
   "id": "96c41438-b8c5-4a09-a254-e7b09f85f363",
   "metadata": {},
   "source": [
    "Consider all possible outcomes of our dice x.\n",
    "$$ \\Pr(\\text{Win} | \\vec S) = \\sum_{x\\in \\vec S} \\Pr(\\text{Win} | \\vec S, x) \\Pr(x| \\vec S) $$\n",
    "\n",
    "$\\Pr(x| \\vec S) = \\frac{1}{6}$ since each side is as equally likely. Also if given x we do not need S\n",
    "\n",
    "$$ \\Pr(\\text{Win} | \\vec S) = \\frac{1}{6} \\sum_{x\\in \\vec S} \\Pr(\\text{Win} | x) $$"
   ]
  },
  {
   "cell_type": "markdown",
   "id": "04dc8ed1-8467-424a-84e5-41d1d3aa3808",
   "metadata": {},
   "source": [
    "Let y denote the maximum value of the other dice"
   ]
  },
  {
   "cell_type": "markdown",
   "id": "7a91d617-529e-44ab-bf51-30e24af7fe27",
   "metadata": {},
   "source": [
    "$$\\Pr(\\text{Win} | x) = \\Pr(y <= x) = \\sum_{y=0}^x \\Pr(y)$$"
   ]
  },
  {
   "cell_type": "markdown",
   "id": "6b019846-bcc6-48bd-ac95-bf40f0e51070",
   "metadata": {},
   "source": [
    "Finally we got back to our original goal\n",
    "$$ \\max_\\vec S \\frac{1}{6} \\sum_{x\\in \\vec S} \\sum_{y=0}^x \\Pr(y) $$\n",
    "$$ \\max_\\vec S \\sum_{x\\in \\vec S} \\sum_{y=0}^x \\Pr(y) $$\n",
    "We will use grid search to find the optimal value, and use the simulation results as an estimate for $\\Pr(y)$"
   ]
  },
  {
   "cell_type": "code",
   "execution_count": 23,
   "id": "a3946fbd-bf58-40d4-b4ff-6fe5a9ffc262",
   "metadata": {},
   "outputs": [
    {
     "data": {
      "text/plain": [
       "array([0.    , 0.    , 0.    , 0.0057, 0.0494, 0.09  , 0.114 , 0.1146,\n",
       "       0.2049, 0.4214])"
      ]
     },
     "execution_count": 23,
     "metadata": {},
     "output_type": "execute_result"
    }
   ],
   "source": [
    "# Get an array for Pr(y)\n",
    "max_rolls_distr = np.array(max_rolls.most_common(),dtype=int)\n",
    "max_rolls_distr = np. append(max_rolls_distr, np.zeros((3,2),dtype=int), 0)\n",
    "max_rolls_distr = max_rolls_distr[::-1]\n",
    "max_rolls_distr = max_rolls_distr[:,1]\n",
    "max_rolls_distr = max_rolls_distr / sum(max_rolls_distr)\n",
    "max_rolls_distr"
   ]
  },
  {
   "cell_type": "code",
   "execution_count": 24,
   "id": "8eaae20c-9d6c-4be1-a990-291fd984c50b",
   "metadata": {},
   "outputs": [
    {
     "data": {
      "text/plain": [
       "(81, 6)"
      ]
     },
     "execution_count": 24,
     "metadata": {},
     "output_type": "execute_result"
    }
   ],
   "source": [
    "# Get all possible dice\n",
    "import itertools\n",
    "\n",
    "numbers = [1, 2, 3, 4, 5, 6, 7, 8, 9]\n",
    "target = 21\n",
    "dice = [seq for i in range(len(numbers), 0, -1)\n",
    "          for seq in itertools.combinations_with_replacement(numbers, i)\n",
    "          if sum(seq) == target and len(seq) == 6]\n",
    "\n",
    "dice = np.array(dice)\n",
    "dice.shape"
   ]
  },
  {
   "cell_type": "code",
   "execution_count": 25,
   "id": "a44a660b-20c9-4768-9012-ae01b3f9e3b8",
   "metadata": {},
   "outputs": [
    {
     "name": "stdout",
     "output_type": "stream",
     "text": [
      "Best Dice:\n",
      "[1 1 1 1 8 9]\n",
      "Probability of winning:\n",
      "0.2631\n"
     ]
    }
   ],
   "source": [
    "max_val = 0\n",
    "max_dice = np.zeros(6)\n",
    "\n",
    "for s in dice:\n",
    "    val = 0\n",
    "    for x in s:\n",
    "        for y in range(0,x+1):\n",
    "            val += max_rolls_distr[y]\n",
    "    if val > max_val:\n",
    "        max_val = val\n",
    "        max_dice = s\n",
    "    elif val == max_val:\n",
    "        max_dice = list(max_dice)\n",
    "        max_dice.append(s)\n",
    "\n",
    "        \n",
    "print(\"Best Dice:\")\n",
    "print(max_dice)\n",
    "\n",
    "print(\"Probability of winning:\")\n",
    "print(max_val/6)"
   ]
  }
 ],
 "metadata": {
  "kernelspec": {
   "display_name": "Python 3 (ipykernel)",
   "language": "python",
   "name": "python3"
  },
  "language_info": {
   "codemirror_mode": {
    "name": "ipython",
    "version": 3
   },
   "file_extension": ".py",
   "mimetype": "text/x-python",
   "name": "python",
   "nbconvert_exporter": "python",
   "pygments_lexer": "ipython3",
   "version": "3.9.7"
  }
 },
 "nbformat": 4,
 "nbformat_minor": 5
}
