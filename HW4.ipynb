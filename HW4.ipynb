{
 "cells": [
  {
   "cell_type": "code",
   "execution_count": 1,
   "id": "92a9b35b-8e5d-4e6a-bc53-b7b4d140b346",
   "metadata": {},
   "outputs": [],
   "source": [
    "import pandas as pd\n",
    "import numpy as np\n",
    "from collections import Counter"
   ]
  },
  {
   "cell_type": "code",
   "execution_count": 2,
   "id": "8bab0b5f-3ace-41d2-8099-54b17da3868f",
   "metadata": {},
   "outputs": [],
   "source": [
    "A = np.array([1,2,3,4,5,6])\n",
    "B = np.array([1,1,1,1,8,9])\n",
    "C = np.array([2,2,3,4,5,5])\n",
    "D = np.array([1,2,2,2,7,7]) \n",
    "E = np.array([1,2,2,3,4,9])\n",
    "F = np.array([3,3,3,4,4,4])\n",
    "G = np.array([2,2,2,2,4,9])\n",
    "H = np.array([1,1,1,5,6,7])\n",
    "I = np.array([2,2,3,4,4,6])\n"
   ]
  },
  {
   "cell_type": "code",
   "execution_count": 72,
   "id": "507124da-cfa6-446c-83b6-f7ab34355b28",
   "metadata": {},
   "outputs": [],
   "source": [
    "def compare_rolls(all_dice, names, num_iter = 1000):\n",
    "    \n",
    "    # Wins, ties, max roll, and num tie participant storage\n",
    "    counts = Counter()\n",
    "    tie_counts = Counter()\n",
    "    max_roll_counts = Counter()\n",
    "    xway_tie_counts = Counter()\n",
    "    \n",
    "    for i in range(num_iter):\n",
    "\n",
    "        # Random choice\n",
    "        rolls = list(map(np.random.choice, all_dice))\n",
    "    \n",
    "        # Store rolls, get max, and loc winning dice\n",
    "        roll_storage = pd.DataFrame(data = rolls, index = names, columns = [\"Roll\"])\n",
    "        max_roll = roll_storage.max().item()\n",
    "        winners = roll_storage.loc[roll_storage['Roll'] == max_roll]\n",
    "        \n",
    "        # Count distribution of winning roll\n",
    "        max_roll_counts[max_roll] += 1\n",
    "        \n",
    "        # Count distribution of ties with shared equity and wins\n",
    "        if len(winners.index) > 1:\n",
    "            xway_tie_counts[len(winners.index)] += 1\n",
    "            for i in winners.index:\n",
    "                tie_counts[i] += 1 / len(winners.index)\n",
    "        else:\n",
    "            for i in winners.index:\n",
    "                counts[i] += 1\n",
    "    \n",
    "    return counts, tie_counts, max_roll_counts, xway_tie_counts"
   ]
  },
  {
   "cell_type": "code",
   "execution_count": 46,
   "id": "a85be462-12f3-4868-8412-e5f2c2f650e3",
   "metadata": {},
   "outputs": [],
   "source": [
    "list_of_dice = [A,B,C,D,E,F,G,H,I]\n",
    "list_of_names = [\"A\", \"B\", \"C\", \"D\", \"E\", \"F\", \"G\", \"H\", \"I\"]"
   ]
  },
  {
   "cell_type": "code",
   "execution_count": 133,
   "id": "755ff03c-2beb-4542-9f0c-6a61265cb968",
   "metadata": {},
   "outputs": [
    {
     "name": "stdout",
     "output_type": "stream",
     "text": [
      "Wins only:\n"
     ]
    },
    {
     "data": {
      "text/plain": [
       "[('B', 2297),\n",
       " ('D', 1351),\n",
       " ('E', 1189),\n",
       " ('G', 1127),\n",
       " ('H', 1042),\n",
       " ('A', 438),\n",
       " ('I', 336),\n",
       " ('C', 325),\n",
       " ('F', 78)]"
      ]
     },
     "metadata": {},
     "output_type": "display_data"
    },
    {
     "name": "stdout",
     "output_type": "stream",
     "text": [
      "\n",
      "Shared ties included:\n"
     ]
    },
    {
     "data": {
      "text/plain": [
       "[('B', 2551.166666666667),\n",
       " ('E', 1485.8500000000001),\n",
       " ('D', 1480.5),\n",
       " ('G', 1415.1333333333334),\n",
       " ('H', 1321.5),\n",
       " ('A', 616.5333333333333),\n",
       " ('C', 475.2),\n",
       " ('I', 473.1666666666666),\n",
       " ('F', 180.94999999999996)]"
      ]
     },
     "metadata": {},
     "output_type": "display_data"
    }
   ],
   "source": [
    "wins, ties, max_rolls, xway_ties = compare_rolls(list_of_dice, list_of_names, num_iter = 10000)\n",
    "total = wins + ties\n",
    "\n",
    "sorted_wins = wins.most_common()\n",
    "sorted_ties = ties.most_common()\n",
    "sorted_total = total.most_common()\n",
    "print(\"Wins only:\")\n",
    "display(sorted_wins)\n",
    "print(\"\\nShared ties included:\")\n",
    "display(sorted_total)"
   ]
  },
  {
   "cell_type": "code",
   "execution_count": 134,
   "id": "6bb64bc9-2a64-4765-989c-a2166b8d8e5f",
   "metadata": {},
   "outputs": [
    {
     "name": "stdout",
     "output_type": "stream",
     "text": [
      "Max roll distribution:\n"
     ]
    },
    {
     "data": {
      "text/plain": [
       "[(9, 4189), (7, 2097), (8, 1167), (6, 1133), (5, 883), (4, 474), (3, 57)]"
      ]
     },
     "metadata": {},
     "output_type": "display_data"
    },
    {
     "name": "stdout",
     "output_type": "stream",
     "text": [
      "\n",
      "Xway tie distribution:\n"
     ]
    },
    {
     "data": {
      "text/plain": [
       "[(2, 1590), (3, 192), (4, 29), (5, 6)]"
      ]
     },
     "metadata": {},
     "output_type": "display_data"
    }
   ],
   "source": [
    "print(\"Max roll distribution:\")\n",
    "display(max_rolls.most_common())\n",
    "print(\"\\nXway tie distribution:\")\n",
    "display(xway_ties.most_common())"
   ]
  },
  {
   "cell_type": "markdown",
   "id": "36bc8510-47fe-46aa-a763-99e90fe6e9e1",
   "metadata": {},
   "source": [
    "## Testing with Optimal Die"
   ]
  },
  {
   "cell_type": "code",
   "execution_count": 157,
   "id": "28edc312-f6bd-4a26-b61a-fe7f91f7f931",
   "metadata": {},
   "outputs": [],
   "source": [
    "opt = np.array([1,1,1,1,8,9])\n",
    "opt_list_of_dice = [A,B,C,D,E,F,G,H,I,opt]\n",
    "opt_names = list_of_names + [\"opt\"]"
   ]
  },
  {
   "cell_type": "code",
   "execution_count": 158,
   "id": "16ba425c-6540-4d8e-9e30-10cd6d3d6d29",
   "metadata": {},
   "outputs": [
    {
     "name": "stdout",
     "output_type": "stream",
     "text": [
      "Wins only:\n"
     ]
    },
    {
     "data": {
      "text/plain": [
       "[('B', 842),\n",
       " ('opt', 822),\n",
       " ('G', 527),\n",
       " ('E', 507),\n",
       " ('D', 447),\n",
       " ('H', 361),\n",
       " ('A', 161),\n",
       " ('I', 100),\n",
       " ('C', 95),\n",
       " ('F', 30)]"
      ]
     },
     "metadata": {},
     "output_type": "display_data"
    },
    {
     "name": "stdout",
     "output_type": "stream",
     "text": [
      "\n",
      "Shared ties included:\n"
     ]
    },
    {
     "data": {
      "text/plain": [
       "[('B', 1061.7500000000002),\n",
       " ('opt', 1039.916666666667),\n",
       " ('G', 707.2000000000002),\n",
       " ('E', 706.4166666666669),\n",
       " ('D', 486.0),\n",
       " ('H', 445.8333333333333),\n",
       " ('A', 209.53333333333333),\n",
       " ('I', 142.95000000000002),\n",
       " ('C', 136.11666666666667),\n",
       " ('F', 64.28333333333333)]"
      ]
     },
     "metadata": {},
     "output_type": "display_data"
    }
   ],
   "source": [
    "wins, ties, max_rolls, xway_ties = compare_rolls(opt_list_of_dice, opt_names, num_iter = 5000)\n",
    "total = wins + ties\n",
    "\n",
    "sorted_wins = wins.most_common()\n",
    "sorted_ties = ties.most_common()\n",
    "sorted_total = total.most_common()\n",
    "print(\"Wins only:\")\n",
    "display(sorted_wins)\n",
    "print(\"\\nShared ties included:\")\n",
    "display(sorted_total)"
   ]
  },
  {
   "cell_type": "code",
   "execution_count": 154,
   "id": "f6e5a507-89d7-4c1c-a187-8cc34684937c",
   "metadata": {},
   "outputs": [
    {
     "name": "stdout",
     "output_type": "stream",
     "text": [
      "Max roll distribution:\n"
     ]
    },
    {
     "data": {
      "text/plain": [
       "[(9, 5248), (8, 1701), (7, 1352), (6, 739), (5, 577), (4, 352), (3, 31)]"
      ]
     },
     "metadata": {},
     "output_type": "display_data"
    },
    {
     "name": "stdout",
     "output_type": "stream",
     "text": [
      "\n",
      "Xway tie distribution:\n"
     ]
    },
    {
     "data": {
      "text/plain": [
       "[(2, 1950), (3, 281), (4, 26), (5, 3)]"
      ]
     },
     "metadata": {},
     "output_type": "display_data"
    }
   ],
   "source": [
    "print(\"Max roll distribution:\")\n",
    "display(max_rolls.most_common())\n",
    "print(\"\\nXway tie distribution:\")\n",
    "display(xway_ties.most_common())"
   ]
  },
  {
   "cell_type": "code",
   "execution_count": 81,
   "id": "feae415a-1fae-4710-a814-d7399b372744",
   "metadata": {},
   "outputs": [
    {
     "data": {
      "text/plain": [
       "Counter({'opt': 149.83333333333331,\n",
       "         'E': 136.25,\n",
       "         'B': 236.83333333333331,\n",
       "         'G': 144.25,\n",
       "         'D': 123.5,\n",
       "         'H': 99.5,\n",
       "         'A': 47.41666666666667,\n",
       "         'I': 27.5,\n",
       "         'F': 13.666666666666666,\n",
       "         'C': 21.25})"
      ]
     },
     "execution_count": 81,
     "metadata": {},
     "output_type": "execute_result"
    }
   ],
   "source": [
    "wins + ties"
   ]
  },
  {
   "cell_type": "code",
   "execution_count": 116,
   "id": "c89b13f4-2def-4509-b64f-e3ff7dad6f3d",
   "metadata": {},
   "outputs": [
    {
     "data": {
      "text/plain": [
       "['A', 'B', 'C', 'D', 'E', 'F', 'G', 'H', 'I', 'opt']"
      ]
     },
     "execution_count": 116,
     "metadata": {},
     "output_type": "execute_result"
    }
   ],
   "source": [
    "opt_names"
   ]
  },
  {
   "cell_type": "code",
   "execution_count": null,
   "id": "a3946fbd-bf58-40d4-b4ff-6fe5a9ffc262",
   "metadata": {},
   "outputs": [],
   "source": []
  }
 ],
 "metadata": {
  "kernelspec": {
   "display_name": "Python 3 (ipykernel)",
   "language": "python",
   "name": "python3"
  },
  "language_info": {
   "codemirror_mode": {
    "name": "ipython",
    "version": 3
   },
   "file_extension": ".py",
   "mimetype": "text/x-python",
   "name": "python",
   "nbconvert_exporter": "python",
   "pygments_lexer": "ipython3",
   "version": "3.9.7"
  }
 },
 "nbformat": 4,
 "nbformat_minor": 5
}
