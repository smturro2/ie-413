{
 "cells": [
  {
   "cell_type": "code",
   "execution_count": 1,
   "id": "92a9b35b-8e5d-4e6a-bc53-b7b4d140b346",
   "metadata": {},
   "outputs": [],
   "source": [
    "import pandas as pd\n",
    "import numpy as np\n",
    "from numpy import random as rand\n",
    "from collections import Counter\n",
    "import matplotlib.pyplot as plt\n",
    "import scipy.stats as stats\n",
    "import itertools\n",
    "\n",
    "rand.seed(13341)"
   ]
  },
  {
   "cell_type": "markdown",
   "id": "2719c7ff-f2eb-4171-9121-e455d921db7f",
   "metadata": {
    "tags": []
   },
   "source": [
    "# Question 1"
   ]
  },
  {
   "cell_type": "markdown",
   "id": "f9f0ea56-6517-4356-94f6-7fea2452be1d",
   "metadata": {},
   "source": [
    "The seed is 13341 and we used 5000 samples.\n",
    "\n",
    "Xander's last 3 digits of UIN is 787. The mean of the exponential distribution is $\\mu = \\frac{1}{\\lambda}$ and the variance is $\\sigma^2 = \\frac{1}{\\lambda^2}$. First sample $x_i$ n times from the exponential distribution with mean = UIN. $\\mu = \\frac{1}{\\lambda} \\rightarrow \\text{UIN}= \\frac{1}{\\lambda} \\rightarrow \\lambda = \\frac{1}{\\text{UIN}}$\n",
    "$$x_i \\sim \\text{Exp}\n",
    "\\left(\n",
    "\\lambda = \\frac{1}{\\text{UIN}}\n",
    "\\right)$$"
   ]
  },
  {
   "cell_type": "markdown",
   "id": "e8d546e9-c9a0-4029-b51f-2cf08b8b1efb",
   "metadata": {},
   "source": [
    "The sample mean can be used to estimate the true distribution's mean. Similarly with the sample variance.\n",
    "\n",
    "$$\\bar x = \\frac{1}{n}\\sum_{i=1}^n x_i$$\n",
    "$$s^2 = \\frac{1}{n-1}\\sum_{i=1}^n (x_i - \\bar x)^2$$"
   ]
  },
  {
   "cell_type": "code",
   "execution_count": 2,
   "id": "b3f6d825-b855-4aec-b7c6-40855ede368a",
   "metadata": {},
   "outputs": [
    {
     "name": "stdout",
     "output_type": "stream",
     "text": [
      "True Mean: 787.0000\n",
      "True Variance: 619369.0000\n",
      "Sample Mean: 787.0950\n",
      "Sample Variance: 606003.6016\n"
     ]
    }
   ],
   "source": [
    "n = 5000\n",
    "UIN = 787\n",
    "\n",
    "true_mean = UIN\n",
    "true_var = UIN**2\n",
    "x_samples = rand.exponential(UIN, n)\n",
    "\n",
    "x_sample_mean = 1/n*sum(x_samples)\n",
    "x_sample_var = 1/(n-1)*sum((x_samples-x_sample_mean)**2)\n",
    "\n",
    "print(f\"True Mean: {true_mean:.4f}\")\n",
    "print(f\"True Variance: {true_var:.4f}\")\n",
    "print(f\"Sample Mean: {x_sample_mean:.4f}\")\n",
    "print(f\"Sample Variance: {x_sample_var:.4f}\")"
   ]
  },
  {
   "cell_type": "markdown",
   "id": "7c3c2d64-9717-43eb-8459-bcb2149cd110",
   "metadata": {},
   "source": [
    "## Question 1b\n",
    "The law of large numbers ensures the mean estimates converge to the true value as n approaches infinity. Lets plot our estimates vs n and see how they converge. Note: We burn in values on the plot for better visualization. Burn in values are not taken out of the sample mean, they are purely for plotting the data"
   ]
  },
  {
   "cell_type": "code",
   "execution_count": 3,
   "id": "7f3c475d-213b-4d4d-91d8-95fec5310e41",
   "metadata": {},
   "outputs": [
    {
     "data": {
      "text/plain": [
       "<matplotlib.legend.Legend at 0x7fa190233700>"
      ]
     },
     "execution_count": 3,
     "metadata": {},
     "output_type": "execute_result"
    },
    {
     "data": {
      "image/png": "[encoded data removed]",
      "text/plain": [
       "<Figure size 432x288 with 1 Axes>"
      ]
     },
     "metadata": {
      "needs_background": "light"
     },
     "output_type": "display_data"
    }
   ],
   "source": [
    "burn_in = 100\n",
    "n_values = np.arange(1,len(x_samples)+1)\n",
    "rolling_sample_mean = x_samples.cumsum() /  n_values\n",
    "\n",
    "\n",
    "x_samples_burned = x_samples[burn_in:]\n",
    "n_values_burned = n_values[burn_in:]\n",
    "rolling_sample_mean_burned = rolling_sample_mean[burn_in:]\n",
    "\n",
    "plt.plot(n_values_burned,\n",
    "         rolling_sample_mean_burned,\n",
    "         \"r\",label=\"Rolling Sample Average\")\n",
    "plt.plot(n_values_burned,\n",
    "         np.ones_like(rolling_sample_mean_burned)*true_mean,\n",
    "         \"-c\",label=\"True Average\")\n",
    "\n",
    "plt.xlabel(\"n\")\n",
    "plt.ylabel(\"Mean\")\n",
    "plt.grid()\n",
    "plt.legend()"
   ]
  },
  {
   "cell_type": "markdown",
   "id": "5a903ba3-96b5-496d-9012-f21b63047414",
   "metadata": {},
   "source": [
    "How fast and how much should they converge if they are truely distributed like the program says they are? Since $\\bar x$ is a random variable itself, we can derive the the moment and use the fact that they are normally distributed with large n.\n",
    "\n",
    "$$\\text{E}[\\bar x] = \\text{E}\\left[\n",
    "\\frac{1}{n}\\sum_{i=1}^n x_i\n",
    "\\right]$$\n",
    "$$\\text{E}[\\bar x] =\\frac{1}{n}\\sum_{i=1}^n \\text{E}\\left[x_i\\right]$$\n",
    "$$\\text{E}[\\bar x] =\\frac{1}{n}\\sum_{i=1}^n \\mu$$\n",
    "$$\\text{E}[\\bar x] = \\mu$$\n",
    "\n",
    "$$$$\n",
    "$$\\text{Var}[\\bar x] = \\text{Var}\\left[\n",
    "\\frac{1}{n}\\sum_{i=1}^n x_i\n",
    "\\right]$$\n",
    "$$\\text{Var}[\\bar x] = \\frac{1}{n^2}\\text{Var}\\left[\\sum_{i=1}^n x_i\\right]$$\n",
    "Here we use the fact that $x_i$ are independently distributed.  \n",
    "$$\\text{Var}[\\bar x] = \\frac{1}{n^2}\\sum_{i=1}^n \\text{Var}\\left[x_i\\right]$$\n",
    "$$\\text{Var}[\\bar x] = \\frac{1}{n^2}\\sum_{i=1}^n \\sigma^2$$\n",
    "$$\\text{Var}[\\bar x] = \\frac{\\sigma^2}{n}$$\n",
    "\n",
    "Lets run (200) several monte carlo simulations for $\\bar x$ and see how they all coverge converge. We will compare it to +/- 1 standard deviation of x bar."
   ]
  },
  {
   "cell_type": "code",
   "execution_count": 4,
   "id": "b7e122b7-6de2-4347-b3d8-f06a8d10b574",
   "metadata": {},
   "outputs": [
    {
     "data": {
      "image/png": "[encoded data removed]",
      "text/plain": [
       "<Figure size 1440x504 with 1 Axes>"
      ]
     },
     "metadata": {
      "needs_background": "light"
     },
     "output_type": "display_data"
    }
   ],
   "source": [
    "max_simulation = 200\n",
    "\n",
    "# Plot True Dist.\n",
    "true_x_bar_var = true_var / n_values\n",
    "true_x_bar_std = np.sqrt(true_x_bar_var)\n",
    "true_x_bar_std_burned = true_x_bar_std[burn_in:]\n",
    "\n",
    "plt.figure(figsize=(20,7))\n",
    "plt.fill_between(n_values_burned,\n",
    "                 true_mean - true_x_bar_std_burned, \n",
    "                 true_mean + true_x_bar_std_burned, \n",
    "                 alpha=1, linewidth=0,\n",
    "                 label=\"+/- 1 std\",color=\"lightgrey\")\n",
    "plt.plot(n_values_burned,\n",
    "         np.ones_like(true_x_bar_std_burned)*true_mean,\n",
    "         \"-c\",label=\"True xbar Average\",zorder=10)\n",
    "\n",
    "# Run Simulations\n",
    "final_simulation_estimates = list()\n",
    "for i in range(max_simulation):\n",
    "    # Sample\n",
    "    x_samples = rand.exponential(UIN, n)\n",
    "    \n",
    "    # Calculate rolling estimates\n",
    "    n_values = np.arange(1,len(x_samples)+1)\n",
    "    rolling_sample_mean = x_samples.cumsum() /  n_values\n",
    "    final_simulation_estimates.append(rolling_sample_mean[-1])\n",
    "    \n",
    "    # Plot\n",
    "    x_samples_burned = x_samples[burn_in:]\n",
    "    n_values_burned = n_values[burn_in:]\n",
    "    rolling_sample_mean_burned = rolling_sample_mean[burn_in:]\n",
    "    plt.plot(n_values_burned,\n",
    "             rolling_sample_mean_burned,\n",
    "             \"-r\",label=\"Rolling Sample Average\",alpha=.05)\n",
    "    \n",
    "    # Ensures we dont have multiple labels on the legend\n",
    "    if i ==0:\n",
    "        plt.legend()\n",
    "plt.xlabel(\"n\")\n",
    "plt.ylabel(\"Mean\")\n",
    "plt.grid()\n",
    "plt.show()"
   ]
  },
  {
   "cell_type": "markdown",
   "id": "ba71c05e-deb5-456b-bd85-38efaba51683",
   "metadata": {},
   "source": [
    "For each of the simulations we plotted the sample mean at each iteration. These test statistics converge correctly following the trend of the true distribution. We can also ensure the final estimates are normally distributed at the end. To do this we plot a histogram of values"
   ]
  },
  {
   "cell_type": "code",
   "execution_count": 5,
   "id": "3c07c32c-1071-444f-8287-47fbe6c80009",
   "metadata": {},
   "outputs": [
    {
     "data": {
      "text/plain": [
       "Text(0, 0.5, 'pdf f(x)')"
      ]
     },
     "execution_count": 5,
     "metadata": {},
     "output_type": "execute_result"
    },
    {
     "data": {
      "image/png": "[encoded data removed]",
      "text/plain": [
       "<Figure size 432x288 with 1 Axes>"
      ]
     },
     "metadata": {
      "needs_background": "light"
     },
     "output_type": "display_data"
    }
   ],
   "source": [
    "final_simulation_estimates = np.array(final_simulation_estimates)\n",
    "plt.hist(final_simulation_estimates, \n",
    "         bins=np.linspace(true_mean-50,true_mean+50, 14),\n",
    "         density=True, edgecolor='black', linewidth=1.2)\n",
    "x = np.linspace(true_mean-50,true_mean+50, 50)\n",
    "plt.plot(x, stats.norm.pdf(x,true_mean,np.sqrt(true_var/n)),label=\"True Distribution\")\n",
    "plt.xlabel(\"Final Sample Mean\")\n",
    "plt.ylabel(\"pdf f(x)\")"
   ]
  },
  {
   "cell_type": "markdown",
   "id": "8680e232-1044-44e6-ac75-ed039de6e6c6",
   "metadata": {},
   "source": [
    "This histrogram fits the true density plot well due to it's bell shape curve. So this gives us good evidence that numpy's random number generator is working correctly."
   ]
  },
  {
   "cell_type": "markdown",
   "id": "6b25c9e2-abaf-430a-afc8-401cc86569fe",
   "metadata": {},
   "source": [
    "# Question 2"
   ]
  },
  {
   "cell_type": "code",
   "execution_count": 6,
   "id": "8bab0b5f-3ace-41d2-8099-54b17da3868f",
   "metadata": {},
   "outputs": [],
   "source": [
    "A = np.array([1,2,3,4,5,6])\n",
    "B = np.array([1,1,1,1,8,9])\n",
    "C = np.array([2,2,3,4,5,5])\n",
    "D = np.array([1,2,2,2,7,7]) \n",
    "E = np.array([1,2,2,3,4,9])\n",
    "F = np.array([3,3,3,4,4,4])\n",
    "G = np.array([2,2,2,2,4,9])\n",
    "H = np.array([1,1,1,5,6,7])\n",
    "I = np.array([2,2,3,4,4,6])"
   ]
  },
  {
   "cell_type": "code",
   "execution_count": 7,
   "id": "507124da-cfa6-446c-83b6-f7ab34355b28",
   "metadata": {},
   "outputs": [],
   "source": [
    "def compare_rolls(all_dice, names, num_iter = 1000):\n",
    "    \n",
    "    # Wins, ties, max roll, and num tie participant storage\n",
    "    counts = Counter()\n",
    "    tie_counts = Counter()\n",
    "    max_roll_counts = Counter()\n",
    "    xway_tie_counts = Counter()\n",
    "    \n",
    "    for i in range(num_iter):\n",
    "\n",
    "        # Random choice\n",
    "        rolls = list(map(rand.choice, all_dice))\n",
    "    \n",
    "        # Store rolls, get max, and loc winning dice\n",
    "        roll_storage = pd.DataFrame(data = rolls, index = names, columns = [\"Roll\"])\n",
    "        max_roll = roll_storage.max().item()\n",
    "        winners = roll_storage.loc[roll_storage['Roll'] == max_roll]\n",
    "        \n",
    "        # Count distribution of winning roll\n",
    "        max_roll_counts[max_roll] += 1\n",
    "        \n",
    "        # Count distribution of ties with shared equity and wins\n",
    "        if len(winners.index) > 1:\n",
    "            xway_tie_counts[len(winners.index)] += 1\n",
    "            for i in winners.index:\n",
    "                tie_counts[i] += 1 / len(winners.index)\n",
    "        else:\n",
    "            for i in winners.index:\n",
    "                counts[i] += 1\n",
    "    \n",
    "    return counts, tie_counts, max_roll_counts, xway_tie_counts"
   ]
  },
  {
   "cell_type": "code",
   "execution_count": 8,
   "id": "a85be462-12f3-4868-8412-e5f2c2f650e3",
   "metadata": {},
   "outputs": [],
   "source": [
    "list_of_dice = [A,B,C,D,E,F,G,H,I]\n",
    "list_of_names = [\"A\", \"B\", \"C\", \"D\", \"E\", \"F\", \"G\", \"H\", \"I\"]"
   ]
  },
  {
   "cell_type": "code",
   "execution_count": 9,
   "id": "755ff03c-2beb-4542-9f0c-6a61265cb968",
   "metadata": {},
   "outputs": [
    {
     "name": "stdout",
     "output_type": "stream",
     "text": [
      "Wins only:\n"
     ]
    },
    {
     "data": {
      "text/plain": [
       "[('B', 2320),\n",
       " ('D', 1272),\n",
       " ('G', 1184),\n",
       " ('H', 1127),\n",
       " ('E', 1114),\n",
       " ('A', 444),\n",
       " ('I', 311),\n",
       " ('C', 284),\n",
       " ('F', 84)]"
      ]
     },
     "metadata": {},
     "output_type": "display_data"
    },
    {
     "name": "stdout",
     "output_type": "stream",
     "text": [
      "\n",
      "Shared ties included:\n"
     ]
    },
    {
     "data": {
      "text/plain": [
       "[('B', 2583.166666666667),\n",
       " ('G', 1477.5166666666669),\n",
       " ('E', 1429.1),\n",
       " ('H', 1403.0),\n",
       " ('D', 1398.0),\n",
       " ('A', 621.7333333333335),\n",
       " ('I', 466.01666666666665),\n",
       " ('C', 427.9),\n",
       " ('F', 193.56666666666655)]"
      ]
     },
     "metadata": {},
     "output_type": "display_data"
    }
   ],
   "source": [
    "num_iterations = 10000\n",
    "wins, ties, max_rolls, xway_ties = compare_rolls(list_of_dice, list_of_names, num_iter = num_iterations)\n",
    "total = wins + ties\n",
    "\n",
    "sorted_wins = wins.most_common()\n",
    "sorted_ties = ties.most_common()\n",
    "sorted_total = total.most_common()\n",
    "print(\"Wins only:\")\n",
    "display(sorted_wins)\n",
    "print(\"\\nShared ties included:\")\n",
    "display(sorted_total)"
   ]
  },
  {
   "cell_type": "code",
   "execution_count": 10,
   "id": "6bb64bc9-2a64-4765-989c-a2166b8d8e5f",
   "metadata": {},
   "outputs": [
    {
     "name": "stdout",
     "output_type": "stream",
     "text": [
      "Max roll distribution:\n"
     ]
    },
    {
     "data": {
      "text/plain": [
       "[(9, 4258), (7, 2016), (6, 1179), (8, 1124), (5, 846), (4, 514), (3, 63)]"
      ]
     },
     "metadata": {},
     "output_type": "display_data"
    },
    {
     "name": "stdout",
     "output_type": "stream",
     "text": [
      "\n",
      "Xway tie distribution:\n"
     ]
    },
    {
     "data": {
      "text/plain": [
       "[(2, 1611), (3, 212), (4, 34), (5, 3)]"
      ]
     },
     "metadata": {},
     "output_type": "display_data"
    }
   ],
   "source": [
    "print(\"Max roll distribution:\")\n",
    "display(max_rolls.most_common())\n",
    "print(\"\\nXway tie distribution:\")\n",
    "display(xway_ties.most_common())"
   ]
  },
  {
   "cell_type": "code",
   "execution_count": 11,
   "id": "0f1aceb1-1606-418f-a4e6-4860907f5fed",
   "metadata": {},
   "outputs": [],
   "source": [
    "## 2a calculation\n",
    "a_results = pd.DataFrame(data = sorted_total, columns = ['Die', 'Wins'])\n",
    "a_results.set_index('Die', inplace=True)\n",
    "a_results['FractionWins'] = a_results['Wins'] / num_iterations\n",
    "\n",
    "## 2b calculation\n",
    "\n",
    "b_results = pd.DataFrame(data = sorted_wins, columns = ['Die', 'Wins'])\n",
    "b_results.set_index('Die', inplace=True)\n",
    "b_results['FractionWinsWithoutTie'] = b_results['Wins'] / (num_iterations - sum(xway_ties.values()))\n",
    "\n",
    "## 2c calculation\n",
    "\n",
    "c_results = pd.DataFrame.from_dict(xway_ties, orient='index').reset_index()\n",
    "c_results.rename(columns ={'index':'Xway' , 0:'Count'}, inplace=True)\n",
    "c_results.set_index('Xway', inplace=True)\n",
    "c_results['FractionXwayTie'] = c_results['Count'] / num_iterations"
   ]
  },
  {
   "cell_type": "markdown",
   "id": "1eec1594-4335-4a07-ac19-e746c2da17d3",
   "metadata": {},
   "source": [
    "## Question 2a, 2b, 2c\n",
    "The below cell shows the answers for a, b, and c in order, for our simulation with 10000 samples. B won the most with and without ties, and a higher fraction given that there were no ties. For part c, there were only ties between 2, 3, 4, and 5 dice (ties with 6 or more dice did not occur and have a fraction of occurring = 0)."
   ]
  },
  {
   "cell_type": "code",
   "execution_count": 12,
   "id": "aa0ddac8-bbf0-491a-910a-d39406255c21",
   "metadata": {},
   "outputs": [
    {
     "name": "stdout",
     "output_type": "stream",
     "text": [
      "2a:\n"
     ]
    },
    {
     "data": {
      "text/html": [
       "<div>\n",
       "<style scoped>\n",
       "    .dataframe tbody tr th:only-of-type {\n",
       "        vertical-align: middle;\n",
       "    }\n",
       "\n",
       "    .dataframe tbody tr th {\n",
       "        vertical-align: top;\n",
       "    }\n",
       "\n",
       "    .dataframe thead th {\n",
       "        text-align: right;\n",
       "    }\n",
       "</style>\n",
       "<table border=\"1\" class=\"dataframe\">\n",
       "  <thead>\n",
       "    <tr style=\"text-align: right;\">\n",
       "      <th></th>\n",
       "      <th>Wins</th>\n",
       "      <th>FractionWins</th>\n",
       "    </tr>\n",
       "    <tr>\n",
       "      <th>Die</th>\n",
       "      <th></th>\n",
       "      <th></th>\n",
       "    </tr>\n",
       "  </thead>\n",
       "  <tbody>\n",
       "    <tr>\n",
       "      <th>B</th>\n",
       "      <td>2583.166667</td>\n",
       "      <td>0.258317</td>\n",
       "    </tr>\n",
       "    <tr>\n",
       "      <th>G</th>\n",
       "      <td>1477.516667</td>\n",
       "      <td>0.147752</td>\n",
       "    </tr>\n",
       "    <tr>\n",
       "      <th>E</th>\n",
       "      <td>1429.100000</td>\n",
       "      <td>0.142910</td>\n",
       "    </tr>\n",
       "    <tr>\n",
       "      <th>H</th>\n",
       "      <td>1403.000000</td>\n",
       "      <td>0.140300</td>\n",
       "    </tr>\n",
       "    <tr>\n",
       "      <th>D</th>\n",
       "      <td>1398.000000</td>\n",
       "      <td>0.139800</td>\n",
       "    </tr>\n",
       "    <tr>\n",
       "      <th>A</th>\n",
       "      <td>621.733333</td>\n",
       "      <td>0.062173</td>\n",
       "    </tr>\n",
       "    <tr>\n",
       "      <th>I</th>\n",
       "      <td>466.016667</td>\n",
       "      <td>0.046602</td>\n",
       "    </tr>\n",
       "    <tr>\n",
       "      <th>C</th>\n",
       "      <td>427.900000</td>\n",
       "      <td>0.042790</td>\n",
       "    </tr>\n",
       "    <tr>\n",
       "      <th>F</th>\n",
       "      <td>193.566667</td>\n",
       "      <td>0.019357</td>\n",
       "    </tr>\n",
       "  </tbody>\n",
       "</table>\n",
       "</div>"
      ],
      "text/plain": [
       "            Wins  FractionWins\n",
       "Die                           \n",
       "B    2583.166667      0.258317\n",
       "G    1477.516667      0.147752\n",
       "E    1429.100000      0.142910\n",
       "H    1403.000000      0.140300\n",
       "D    1398.000000      0.139800\n",
       "A     621.733333      0.062173\n",
       "I     466.016667      0.046602\n",
       "C     427.900000      0.042790\n",
       "F     193.566667      0.019357"
      ]
     },
     "metadata": {},
     "output_type": "display_data"
    },
    {
     "name": "stdout",
     "output_type": "stream",
     "text": [
      "2b:\n"
     ]
    },
    {
     "data": {
      "text/html": [
       "<div>\n",
       "<style scoped>\n",
       "    .dataframe tbody tr th:only-of-type {\n",
       "        vertical-align: middle;\n",
       "    }\n",
       "\n",
       "    .dataframe tbody tr th {\n",
       "        vertical-align: top;\n",
       "    }\n",
       "\n",
       "    .dataframe thead th {\n",
       "        text-align: right;\n",
       "    }\n",
       "</style>\n",
       "<table border=\"1\" class=\"dataframe\">\n",
       "  <thead>\n",
       "    <tr style=\"text-align: right;\">\n",
       "      <th></th>\n",
       "      <th>Wins</th>\n",
       "      <th>FractionWinsWithoutTie</th>\n",
       "    </tr>\n",
       "    <tr>\n",
       "      <th>Die</th>\n",
       "      <th></th>\n",
       "      <th></th>\n",
       "    </tr>\n",
       "  </thead>\n",
       "  <tbody>\n",
       "    <tr>\n",
       "      <th>B</th>\n",
       "      <td>2320</td>\n",
       "      <td>0.285012</td>\n",
       "    </tr>\n",
       "    <tr>\n",
       "      <th>D</th>\n",
       "      <td>1272</td>\n",
       "      <td>0.156265</td>\n",
       "    </tr>\n",
       "    <tr>\n",
       "      <th>G</th>\n",
       "      <td>1184</td>\n",
       "      <td>0.145455</td>\n",
       "    </tr>\n",
       "    <tr>\n",
       "      <th>H</th>\n",
       "      <td>1127</td>\n",
       "      <td>0.138452</td>\n",
       "    </tr>\n",
       "    <tr>\n",
       "      <th>E</th>\n",
       "      <td>1114</td>\n",
       "      <td>0.136855</td>\n",
       "    </tr>\n",
       "    <tr>\n",
       "      <th>A</th>\n",
       "      <td>444</td>\n",
       "      <td>0.054545</td>\n",
       "    </tr>\n",
       "    <tr>\n",
       "      <th>I</th>\n",
       "      <td>311</td>\n",
       "      <td>0.038206</td>\n",
       "    </tr>\n",
       "    <tr>\n",
       "      <th>C</th>\n",
       "      <td>284</td>\n",
       "      <td>0.034889</td>\n",
       "    </tr>\n",
       "    <tr>\n",
       "      <th>F</th>\n",
       "      <td>84</td>\n",
       "      <td>0.010319</td>\n",
       "    </tr>\n",
       "  </tbody>\n",
       "</table>\n",
       "</div>"
      ],
      "text/plain": [
       "     Wins  FractionWinsWithoutTie\n",
       "Die                              \n",
       "B    2320                0.285012\n",
       "D    1272                0.156265\n",
       "G    1184                0.145455\n",
       "H    1127                0.138452\n",
       "E    1114                0.136855\n",
       "A     444                0.054545\n",
       "I     311                0.038206\n",
       "C     284                0.034889\n",
       "F      84                0.010319"
      ]
     },
     "metadata": {},
     "output_type": "display_data"
    },
    {
     "name": "stdout",
     "output_type": "stream",
     "text": [
      "2c:\n"
     ]
    },
    {
     "data": {
      "text/html": [
       "<div>\n",
       "<style scoped>\n",
       "    .dataframe tbody tr th:only-of-type {\n",
       "        vertical-align: middle;\n",
       "    }\n",
       "\n",
       "    .dataframe tbody tr th {\n",
       "        vertical-align: top;\n",
       "    }\n",
       "\n",
       "    .dataframe thead th {\n",
       "        text-align: right;\n",
       "    }\n",
       "</style>\n",
       "<table border=\"1\" class=\"dataframe\">\n",
       "  <thead>\n",
       "    <tr style=\"text-align: right;\">\n",
       "      <th></th>\n",
       "      <th>Count</th>\n",
       "      <th>FractionXwayTie</th>\n",
       "    </tr>\n",
       "    <tr>\n",
       "      <th>Xway</th>\n",
       "      <th></th>\n",
       "      <th></th>\n",
       "    </tr>\n",
       "  </thead>\n",
       "  <tbody>\n",
       "    <tr>\n",
       "      <th>2</th>\n",
       "      <td>1611</td>\n",
       "      <td>0.1611</td>\n",
       "    </tr>\n",
       "    <tr>\n",
       "      <th>3</th>\n",
       "      <td>212</td>\n",
       "      <td>0.0212</td>\n",
       "    </tr>\n",
       "    <tr>\n",
       "      <th>4</th>\n",
       "      <td>34</td>\n",
       "      <td>0.0034</td>\n",
       "    </tr>\n",
       "    <tr>\n",
       "      <th>5</th>\n",
       "      <td>3</td>\n",
       "      <td>0.0003</td>\n",
       "    </tr>\n",
       "  </tbody>\n",
       "</table>\n",
       "</div>"
      ],
      "text/plain": [
       "      Count  FractionXwayTie\n",
       "Xway                        \n",
       "2      1611           0.1611\n",
       "3       212           0.0212\n",
       "4        34           0.0034\n",
       "5         3           0.0003"
      ]
     },
     "metadata": {},
     "output_type": "display_data"
    }
   ],
   "source": [
    "print(\"2a:\")\n",
    "display(a_results)\n",
    "print(\"2b:\")\n",
    "display(b_results)\n",
    "print(\"2c:\")\n",
    "display(c_results)"
   ]
  },
  {
   "cell_type": "markdown",
   "id": "88288828-1937-4077-b1c0-1f25233c6daa",
   "metadata": {
    "tags": []
   },
   "source": [
    "# Bonus Question"
   ]
  },
  {
   "cell_type": "markdown",
   "id": "276a7984-a855-430f-a449-86e4f676b6fe",
   "metadata": {},
   "source": [
    "Let $\\vec S$ be our vector of values for the dice. We also have data on what the other dice sides are. We put this data into a matrix $D$ which is num_dice by num_sides. So for example if dice 1 was like dice F $D_0 = [333444]$. Let num_dice = $m$ and num sides be $p$."
   ]
  },
  {
   "cell_type": "markdown",
   "id": "74edebc0-8f42-433d-a476-6fd02637513f",
   "metadata": {},
   "source": [
    "$$ \\max_\\vec S \\Pr(\\text{Win} | \\vec S)$$"
   ]
  },
  {
   "cell_type": "markdown",
   "id": "e1dcc078-e3d6-4000-b872-6339503f13d3",
   "metadata": {},
   "source": [
    "Consider all possible outcomes of our dice x.\n",
    "$$ \\Pr(\\text{Win} | \\vec S) = \\sum_{x\\in \\vec S} \\Pr(\\text{Win} | \\vec S, x) \\Pr(x| \\vec S) $$\n",
    "\n",
    "$\\Pr(x| \\vec S) = \\frac{1}{p}$ since each side is as equally likely. Also if given x we do not need S\n",
    "\n",
    "$$ \\Pr(\\text{Win} | \\vec S) = \\frac{1}{p} \\sum_{x\\in \\vec S} \\Pr(\\text{Win} | x) $$"
   ]
  },
  {
   "cell_type": "markdown",
   "id": "890dbe9f-f81b-4dba-9d7e-4805b979af2e",
   "metadata": {},
   "source": [
    "Consider a vector of the outcomes of the other dice $\\textbf k$.\n",
    "Using order statistics we can determine a CMF for $\\text{max}(K_1,K_2 ...K_m) = \\text{max}(\\textbf k)$."
   ]
  },
  {
   "cell_type": "markdown",
   "id": "b50282ed-cf77-4469-a6ff-23e50867036c",
   "metadata": {},
   "source": [
    "$$\\Pr(\\text{Win} | x) = \\Pr\\left(\\text{max}(\\textbf k\\right) <= x)=\n",
    "\\prod_{i=1}^m F_{K_i}(x)$$"
   ]
  },
  {
   "cell_type": "markdown",
   "id": "79adfe59-4829-4d6d-98da-07ae7ac239e4",
   "metadata": {},
   "source": [
    "Lastly we need pdf's for each of the outcomes of the dice $F_{K_i}(x)$"
   ]
  },
  {
   "cell_type": "markdown",
   "id": "5dbb2961-5500-4b03-83dd-b8c3f0c85a4f",
   "metadata": {},
   "source": [
    "$$F_{K_i}(x) = \\frac{1}{p} \\sum_{j=1}^p \\text{Ind}(D_{ij} <= x)$$"
   ]
  },
  {
   "cell_type": "markdown",
   "id": "ea99002c-3edd-483a-894a-ad365aa0236c",
   "metadata": {},
   "source": [
    "Finally we got back to our original goal to maximize $\\Pr(\\text{Win} | \\vec S) $, and start filling everything in\n",
    "\n",
    "$$\\begin{aligned}\n",
    "\\Pr(\\text{Win} | \\vec S) \n",
    "&= \\frac{1}{p} \\sum_{x\\in \\vec S} \\Pr(\\text{Win} | x) \\\\\n",
    "&= \\frac{1}{p} \\sum_{x\\in \\vec S}\\prod_{i=1}^m F_{K_i}(x) \\\\\n",
    "&= \\frac{1}{p} \\sum_{x\\in \\vec S}\\prod_{i=1}^m F_{K_i}(x) \\\\\n",
    "&= \\frac{1}{p} \\sum_{x\\in \\vec S}\\prod_{i=1}^m \\frac{1}{p} \\sum_{j=1}^p \\text{Ind}(D_{ij} <= x) \\\\\n",
    "&= \\frac{1}{p^{m+1}} \\sum_{x\\in \\vec S}\\prod_{i=1}^m \\sum_{j=1}^p \\text{Ind}(D_{ij} <= x) \\\\\n",
    "\\Pr(\\text{Win} | \\vec S)  & \\propto \\sum_{x\\in \\vec S}\\prod_{i=1}^m \\sum_{j=1}^p \\text{Ind}(D_{ij} <= x)\n",
    "\\end{aligned}$$\n",
    "\n",
    "We will use grid search to find the optimal value, and use the simulation results as an estimate for $\\Pr(y)$\n",
    "\n",
    "$$ \\max_\\vec S \\Pr(\\text{Win} | \\vec S)$$"
   ]
  },
  {
   "cell_type": "code",
   "execution_count": 13,
   "id": "c19ac91e-f163-4224-ba94-2d9728586fa9",
   "metadata": {},
   "outputs": [
    {
     "data": {
      "text/plain": [
       "(81, 6)"
      ]
     },
     "execution_count": 13,
     "metadata": {},
     "output_type": "execute_result"
    }
   ],
   "source": [
    "# Get all possible dice\n",
    "numbers = [1, 2, 3, 4, 5, 6, 7, 8, 9]\n",
    "target = 21\n",
    "dice = [seq for i in range(len(numbers), 0, -1)\n",
    "          for seq in itertools.combinations_with_replacement(numbers, i)\n",
    "          if sum(seq) == target and len(seq) == 6]\n",
    "\n",
    "dice = np.array(dice)\n",
    "dice.shape"
   ]
  },
  {
   "cell_type": "code",
   "execution_count": 14,
   "id": "b345b6f0-661f-4ec2-84f2-0dbbc1d645f5",
   "metadata": {
    "tags": []
   },
   "outputs": [],
   "source": [
    "p = 6\n",
    "m = 9\n",
    "Data = np.array(list_of_dice)\n",
    "\n",
    "def prob_winning(s):\n",
    "    return np.sum([prob_winning_given_x(x) for x in s])\n",
    "\n",
    "F_K = np.array([Data <= i for i in range(1,m+2)],dtype=int)\n",
    "F_K = F_K.sum(axis=2)\n",
    "F_K = F_K.prod(axis=1)\n",
    "def prob_winning_given_x(x):\n",
    "    if x <=0:\n",
    "        return 0\n",
    "    return F_K[x-1]"
   ]
  },
  {
   "cell_type": "code",
   "execution_count": 15,
   "id": "35420d24-6a84-4485-8f3b-9e31a8446a94",
   "metadata": {},
   "outputs": [
    {
     "name": "stdout",
     "output_type": "stream",
     "text": [
      "Best Dice:\n",
      "[1 1 1 1 8 9]\n",
      "Probability of winning:\n",
      "0.2631172839506173\n"
     ]
    }
   ],
   "source": [
    " # grid search optimization max_val = 0\n",
    "max_dice = np.zeros(6)\n",
    "max_val = 0\n",
    "\n",
    "for s in dice:\n",
    "    val = prob_winning(s)\n",
    "    if val > max_val:\n",
    "        max_val = val\n",
    "        max_dice = s\n",
    "    elif val == max_val:\n",
    "        max_dice = list(max_dice)\n",
    "        max_dice.append(s)\n",
    "\n",
    "        \n",
    "print(\"Best Dice:\")\n",
    "print(max_dice)\n",
    "\n",
    "print(\"Probability of winning:\")\n",
    "print(max_val/p**(m+1))"
   ]
  },
  {
   "cell_type": "markdown",
   "id": "19d10028-b3e9-4a42-b745-66ee3ff917ff",
   "metadata": {},
   "source": [
    "## Hand-calculated probabilities of max roll distribution\n",
    "The probabilities used below were hand-calculated for the specific scenario question 2. These calculations are shown in an additional pdf, highlighting the final probabilities as well as the work to arrive at those probabilities. These indices are for M = 0 to 9, though M can never be 0 in practice. We will use this to ensure our function is accurate."
   ]
  },
  {
   "cell_type": "code",
   "execution_count": 16,
   "id": "e258fd7d-1b7c-4cce-a32a-c8a82cc66659",
   "metadata": {},
   "outputs": [
    {
     "data": {
      "text/plain": [
       "array([0.        , 0.        , 0.        , 0.0048011 , 0.05715592,\n",
       "       0.1428898 , 0.25720165, 0.46296296, 0.5787037 , 1.        ])"
      ]
     },
     "execution_count": 16,
     "metadata": {},
     "output_type": "execute_result"
    }
   ],
   "source": [
    "max_rolls_distr = [0, 0, 0, 7/1458, 229/4374, 125/1458, 250/2187, 50/243, 25/216, 91/216]\n",
    "max_rolls_distr = np.array(max_rolls_distr)\n",
    "max_rolls_distr.cumsum()"
   ]
  },
  {
   "cell_type": "code",
   "execution_count": 17,
   "id": "5ae541f4-d09d-4c7a-9944-85a94e4b3ab8",
   "metadata": {
    "tags": []
   },
   "outputs": [
    {
     "data": {
      "text/plain": [
       "array([0.        , 0.        , 0.        , 0.00617284, 0.05715592,\n",
       "       0.1428898 , 0.25720165, 0.46296296, 0.5787037 , 1.        ])"
      ]
     },
     "execution_count": 17,
     "metadata": {},
     "output_type": "execute_result"
    }
   ],
   "source": [
    "np.array([prob_winning_given_x(x) for x in range(0,10)])/p**(m)"
   ]
  },
  {
   "cell_type": "markdown",
   "id": "36bc8510-47fe-46aa-a763-99e90fe6e9e1",
   "metadata": {
    "tags": []
   },
   "source": [
    "## Testing with Optimal Die"
   ]
  },
  {
   "cell_type": "code",
   "execution_count": 19,
   "id": "28edc312-f6bd-4a26-b61a-fe7f91f7f931",
   "metadata": {},
   "outputs": [],
   "source": [
    "opt = np.array([1,1,1,1,8,9])\n",
    "opt_list_of_dice = [A,B,C,D,E,F,G,H,I,opt]\n",
    "opt_names = list_of_names + [\"opt\"]"
   ]
  },
  {
   "cell_type": "code",
   "execution_count": 20,
   "id": "16ba425c-6540-4d8e-9e30-10cd6d3d6d29",
   "metadata": {},
   "outputs": [
    {
     "name": "stdout",
     "output_type": "stream",
     "text": [
      "Wins only:\n"
     ]
    },
    {
     "data": {
      "text/plain": [
       "[('B', 910),\n",
       " ('opt', 903),\n",
       " ('G', 486),\n",
       " ('E', 455),\n",
       " ('D', 441),\n",
       " ('H', 355),\n",
       " ('A', 153),\n",
       " ('C', 93),\n",
       " ('I', 90),\n",
       " ('F', 29)]"
      ]
     },
     "metadata": {},
     "output_type": "display_data"
    },
    {
     "name": "stdout",
     "output_type": "stream",
     "text": [
      "\n",
      "Shared ties included:\n"
     ]
    },
    {
     "data": {
      "text/plain": [
       "[('B', 1117.75),\n",
       " ('opt', 1110.25),\n",
       " ('G', 668.2333333333333),\n",
       " ('E', 617.5333333333333),\n",
       " ('D', 485.0),\n",
       " ('H', 445.0),\n",
       " ('A', 215.35000000000002),\n",
       " ('I', 144.5166666666667),\n",
       " ('C', 133.01666666666668),\n",
       " ('F', 63.349999999999994)]"
      ]
     },
     "metadata": {},
     "output_type": "display_data"
    }
   ],
   "source": [
    "number_of_iterations = 5000\n",
    "o_wins, o_ties, o_max_rolls, o_xway_ties = compare_rolls(opt_list_of_dice, opt_names, num_iter = number_of_iterations)\n",
    "o_total = o_wins + o_ties\n",
    "\n",
    "o_sorted_wins = o_wins.most_common()\n",
    "o_sorted_ties = o_ties.most_common()\n",
    "o_sorted_total = o_total.most_common()\n",
    "print(\"Wins only:\")\n",
    "display(o_sorted_wins)\n",
    "print(\"\\nShared ties included:\")\n",
    "display(o_sorted_total)"
   ]
  },
  {
   "cell_type": "code",
   "execution_count": 21,
   "id": "32984a3a-b585-4cc4-806d-9e7be2ff1460",
   "metadata": {},
   "outputs": [
    {
     "data": {
      "text/plain": [
       "3915.0"
      ]
     },
     "execution_count": 21,
     "metadata": {},
     "output_type": "execute_result"
    }
   ],
   "source": [
    "np.array(o_sorted_wins)[:,1].astype(float).sum()"
   ]
  },
  {
   "cell_type": "code",
   "execution_count": 22,
   "id": "84a1b706-9f28-476c-98ac-a5e124ceccda",
   "metadata": {},
   "outputs": [
    {
     "data": {
      "text/plain": [
       "0.7829999999999999"
      ]
     },
     "execution_count": 22,
     "metadata": {},
     "output_type": "execute_result"
    }
   ],
   "source": [
    "o_sorted_wins = np.array(o_sorted_wins)\n",
    "df_o_sorted_wins = pd.DataFrame(columns=o_sorted_wins[:,0])\n",
    "df_o_sorted_wins.loc[\"Probability of Winning\"] = o_sorted_wins[:,1].astype(float)\n",
    "df_o_sorted_wins.loc[\"Probability of Winning\"] = df_o_sorted_wins.loc[\"Probability of Winning\"] / number_of_iterations\n",
    "sum(df_o_sorted_wins.loc[\"Probability of Winning\"])"
   ]
  },
  {
   "cell_type": "code",
   "execution_count": 23,
   "id": "f6e5a507-89d7-4c1c-a187-8cc34684937c",
   "metadata": {},
   "outputs": [
    {
     "name": "stdout",
     "output_type": "stream",
     "text": [
      "Max roll distribution:\n"
     ]
    },
    {
     "data": {
      "text/plain": [
       "[(9, 2577), (8, 901), (7, 703), (6, 375), (5, 258), (4, 166), (3, 20)]"
      ]
     },
     "metadata": {},
     "output_type": "display_data"
    },
    {
     "name": "stdout",
     "output_type": "stream",
     "text": [
      "\n",
      "Xway tie distribution:\n"
     ]
    },
    {
     "data": {
      "text/plain": [
       "[(2, 948), (3, 120), (4, 13), (5, 3), (6, 1)]"
      ]
     },
     "metadata": {},
     "output_type": "display_data"
    }
   ],
   "source": [
    "print(\"Max roll distribution:\")\n",
    "display(o_max_rolls.most_common())\n",
    "print(\"\\nXway tie distribution:\")\n",
    "display(o_xway_ties.most_common())"
   ]
  },
  {
   "cell_type": "markdown",
   "id": "372f43bc-6c51-4f86-b7e6-277b59996bb0",
   "metadata": {},
   "source": [
    "## Testing Bonus Question with custom scenario\n",
    "If all the other dice are like dice F, then 111189 would not be the optimal dice."
   ]
  },
  {
   "cell_type": "code",
   "execution_count": 24,
   "id": "5e15145d-c87c-44a3-b959-c971ef60bb8e",
   "metadata": {},
   "outputs": [],
   "source": [
    "# Set the dice\n",
    "list_of_dice = [F for i in range(9)]"
   ]
  },
  {
   "cell_type": "code",
   "execution_count": 25,
   "id": "93d7a13e-c60c-4b43-bbf2-0644fc7726fc",
   "metadata": {
    "tags": []
   },
   "outputs": [],
   "source": [
    "p = 6\n",
    "m = 9\n",
    "# Set the dice\n",
    "list_of_dice = [F for i in range(9)]\n",
    "Data = np.array(list_of_dice)\n",
    "\n",
    "def prob_winning(s):\n",
    "    return np.sum([prob_winning_given_x(x) for x in s])\n",
    "\n",
    "F_K = np.array([Data <= i for i in range(1,m+2)],dtype=int)\n",
    "F_K = F_K.sum(axis=2)\n",
    "F_K = F_K.prod(axis=1)\n",
    "def prob_winning_given_x(x):\n",
    "    if x <=0:\n",
    "        return 0\n",
    "    return F_K[x-1]"
   ]
  },
  {
   "cell_type": "code",
   "execution_count": 26,
   "id": "0c0fb4cd-89f0-4f93-9f57-3245d0613e70",
   "metadata": {},
   "outputs": [
    {
     "name": "stdout",
     "output_type": "stream",
     "text": [
      "Best Dice:\n",
      "[1 4 4 4 4 4]\n",
      "Probability of winning:\n",
      "0.8333333333333334\n"
     ]
    }
   ],
   "source": [
    " # grid search optimization max_val = 0\n",
    "max_dice = np.zeros(6)\n",
    "max_val = 0\n",
    "\n",
    "for s in dice:\n",
    "    val = prob_winning(s)\n",
    "    if val > max_val:\n",
    "        max_val = val\n",
    "        max_dice = s\n",
    "    elif val == max_val:\n",
    "        max_dice = list(max_dice)\n",
    "        max_dice.append(s)\n",
    "\n",
    "        \n",
    "print(\"Best Dice:\")\n",
    "print(max_dice)\n",
    "\n",
    "print(\"Probability of winning:\")\n",
    "print(max_val/p**(m+1))"
   ]
  }
 ],
 "metadata": {
  "kernelspec": {
   "display_name": "Python 3 (ipykernel)",
   "language": "python",
   "name": "python3"
  },
  "language_info": {
   "codemirror_mode": {
    "name": "ipython",
    "version": 3
   },
   "file_extension": ".py",
   "mimetype": "text/x-python",
   "name": "python",
   "nbconvert_exporter": "python",
   "pygments_lexer": "ipython3",
   "version": "3.9.7"
  }
 },
 "nbformat": 4,
 "nbformat_minor": 5
}
