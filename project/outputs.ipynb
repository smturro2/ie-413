{
 "cells": [
  {
   "cell_type": "code",
   "execution_count": 14,
   "id": "8dab1d6b-5d31-4258-8cdd-317d370fe06b",
   "metadata": {},
   "outputs": [],
   "source": [
    "import numpy as np\n",
    "import pandas as pd\n",
    "import matplotlib.pyplot as plt\n",
    "\n",
    "from main import calc_conf_intervals"
   ]
  },
  {
   "cell_type": "markdown",
   "id": "c6a8ecf1-d185-4454-8e49-50abf42be449",
   "metadata": {},
   "source": [
    "This script is used to load in the output from the simulation for any further analysis."
   ]
  },
  {
   "cell_type": "code",
   "execution_count": 19,
   "id": "11eb770e-b5af-4b9a-a592-5cbea66f8b1c",
   "metadata": {},
   "outputs": [
    {
     "name": "stdout",
     "output_type": "stream",
     "text": [
      "wait_time_outside                  0.148401\n",
      "wait_time_inside                   0.128779\n",
      "wait_time_wt                       0.336522\n",
      "wait_time_rt                       1.635581\n",
      "wait_time_cam                      0.138203\n",
      "wait_time_clk                      0.213374\n",
      "wait_time_csh                      0.029295\n",
      "wait_time_total                    0.822592\n",
      "total_arrivals                  1404.000000\n",
      "total_fails                      490.000000\n",
      "avg_num_line_checkin_inside        1.822844\n",
      "max_num_line_checkin_inside       25.000000\n",
      "avg_num_line_checkin_outside       1.655216\n",
      "max_num_line_checkin_outside      80.000000\n",
      "avg_num_line_camera                0.372801\n",
      "max_num_line_camera               20.000000\n",
      "avg_num_line_clerk                 1.531570\n",
      "max_num_line_clerk                67.000000\n",
      "avg_num_line_roadtest              2.988082\n",
      "max_num_line_roadtest             51.000000\n",
      "avg_num_line_writtentest           2.109759\n",
      "max_num_line_writtentest          50.000000\n",
      "avg_num_line_cashier               0.380977\n",
      "max_num_line_cashier              34.000000\n",
      "system_empty                      16.814343\n",
      "dtype: float64\n"
     ]
    }
   ],
   "source": [
    "master_df_time_table = pd.read_csv(\"time_table.csv\")\n",
    "master_output_table = pd.read_csv(\"outputs.csv\")\n",
    "print(master_output_table.max())"
   ]
  },
  {
   "cell_type": "code",
   "execution_count": 28,
   "id": "68022d0c-853f-46e2-9b42-1cb1ce09e6fc",
   "metadata": {},
   "outputs": [
    {
     "name": "stdout",
     "output_type": "stream",
     "text": [
      "                                    lower        upper\n",
      "wait_time_outside                0.297404     5.278177\n",
      "wait_time_inside                 1.685128     6.320534\n",
      "wait_time_wt                    -2.755380     9.299413\n",
      "wait_time_rt                   -10.193952    58.058305\n",
      "wait_time_cam                    0.434800     4.857806\n",
      "wait_time_clk                   -1.045294     4.936130\n",
      "wait_time_csh                    0.228268     0.875376\n",
      "wait_time_total                 24.152407    38.634786\n",
      "total_arrivals                1239.122821  1381.584028\n",
      "total_fails                    397.627265   476.520680\n",
      "avg_num_line_checkin_inside      0.336531     1.418997\n",
      "max_num_line_checkin_inside     25.000000    25.000000\n",
      "avg_num_line_checkin_outside    -0.185516     0.886404\n",
      "max_num_line_checkin_outside    36.372350    67.074225\n",
      "avg_num_line_camera              0.007709     0.212868\n",
      "max_num_line_camera              3.064386    15.116436\n",
      "avg_num_line_clerk              -0.152211     0.590180\n",
      "max_num_line_clerk               2.728956    32.734058\n",
      "avg_num_line_roadtest           -0.367297     1.571201\n",
      "max_num_line_roadtest            1.121979    32.894459\n",
      "avg_num_line_writtentest        -0.317538     0.866505\n",
      "max_num_line_writtentest        -0.167079    36.331463\n",
      "avg_num_line_cashier             0.038370     0.186047\n",
      "max_num_line_cashier             6.461369    21.555069\n",
      "system_empty                    10.137583    12.888196\n"
     ]
    }
   ],
   "source": [
    "conf_intervals = calc_conf_intervals(master_output_table)\n",
    "\n",
    "# Convert to minutes\n",
    "time_columns = conf_intervals.columns[0:8]\n",
    "conf_intervals[time_columns] = conf_intervals[time_columns]* 60\n",
    "\n",
    "print(conf_intervals.T)"
   ]
  }
 ],
 "metadata": {
  "kernelspec": {
   "display_name": "Python 3 (ipykernel)",
   "language": "python",
   "name": "python3"
  },
  "language_info": {
   "codemirror_mode": {
    "name": "ipython",
    "version": 3
   },
   "file_extension": ".py",
   "mimetype": "text/x-python",
   "name": "python",
   "nbconvert_exporter": "python",
   "pygments_lexer": "ipython3",
   "version": "3.9.7"
  }
 },
 "nbformat": 4,
 "nbformat_minor": 5
}
