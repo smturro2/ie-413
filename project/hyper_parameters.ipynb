{
 "cells": [
  {
   "cell_type": "code",
   "execution_count": 1,
   "metadata": {},
   "outputs": [],
   "source": [
    "import numpy as np\n",
    "import pandas as pd\n",
    "import matplotlib.pyplot as plt"
   ]
  },
  {
   "cell_type": "markdown",
   "metadata": {
    "tags": []
   },
   "source": [
    "# Why do people go to the DMV?\n",
    "https://yogov.org/blog/most-popular-reasons-visit-dmv/\n",
    "\n",
    "This data is from california.\n",
    "\n",
    "| Percent | Reason                                                                       |\n",
    "|---------|------------------------------------------------------------------------------|\n",
    "| 11.9    | behind the wheel                                                             |\n",
    "| 5.8     | transfer vechicle title                                                      |\n",
    "| 15.3    | permit Test                                                                  |\n",
    "| 25.5    | First license                                                                |\n",
    "| 15.1    | Other (changing address, changing names, getting license plates, and others) |\n",
    "| 13.7    | Renew License                                                                |\n",
    "| 12.7    | Register Vehicle                                                             |"
   ]
  },
  {
   "cell_type": "markdown",
   "metadata": {},
   "source": [
    "Condense"
   ]
  },
  {
   "cell_type": "markdown",
   "metadata": {},
   "source": [
    "| Percent            | Reason                    | Actions needed |\n",
    "|--------------------|---------------------------|----------------|\n",
    "| 11.9               | Driving Test              | RT, Camera     |\n",
    "| 5.8+15.1+12.7=33.6 | No Test                   | (no clerk)     |\n",
    "| 25.5+15.3=40.8     | permit test/First license | WT             |\n",
    "| 13.7               | Renew Licese              | Camera         |"
   ]
  },
  {
   "cell_type": "markdown",
   "metadata": {
    "tags": []
   },
   "source": [
    "## Parameter Estimates\n",
    "p_checkin_written: .408\n",
    "\n",
    "p_checkin_clerk: .336\n",
    "\n",
    "p_checkin_camera: .137\n",
    "\n",
    "p_checkin_driving: .119"
   ]
  },
  {
   "cell_type": "markdown",
   "metadata": {},
   "source": [
    "# Rejection\n",
    "Customers will be rejected after a written test, road test, check in or clerk.\n",
    "\n",
    "$$\\begin{aligned}\n",
    "\\Pr(\\text{reject})\n",
    "&= \\Pr(\\text{reject|wt}) \\\\\n",
    "&= \\Pr(\\text{reject|rt}) \\\\\n",
    "&= \\Pr(\\text{reject|ci}) \\\\\n",
    "&= \\Pr(\\text{reject|clerk}) \\\\\n",
    "\\end{aligned}$$\n",
    "\n",
    "From https://yogov.org/dmv/whats-the-most-common-reason-to-go-the-dmv/ Customers said that 33% of the time their issue was not resolved(rejected). https://www.dmv.ca.gov/portal/uploads/2020/04/S2-154.pdf Gives the fail rates for the tests.\n",
    "\n",
    "let $a$ be the probability of not having the right paperwork at CI. $B$ Be the probability of not having the right paperwork at Clerk.\n",
    "\n",
    "$$\\begin{aligned}\n",
    "\\Pr(\\text{reject})\n",
    "&= .55(.408)(1-a) \\\\\n",
    "&+ .456(.119)(1-a) \\\\\n",
    "&+ a \\\\\n",
    "&+ b(.336+.137+(1-.456)(.119))(1-a) \\\\\n",
    "\\end{aligned}$$\n",
    "\n",
    "We other scenarios is the probability of not having the proper paper work. Usually the job of the ci is to weed out customers that dont have proper paper work ahead of time. We will say that ci catchs about 80% of these cases. Thus $a/(b+a)=.8 \\rightarrow a=4b$.\n",
    "\n",
    "\n",
    "$$\\begin{aligned}\n",
    "\\frac{1}{3}\n",
    "&= .55(.408)(1-a) \\\\\n",
    "&+ .456(.119)(1-a) \\\\\n",
    "&+ a \\\\\n",
    "&+ .25a(.336+.137+(1-.456)(.119))(1-a) \\\\\n",
    "\\end{aligned}$$"
   ]
  },
  {
   "cell_type": "markdown",
   "metadata": {},
   "source": [
    "Solve for a using wolf ram alpha\n",
    "$$a \\approx 0.0645375$$"
   ]
  },
  {
   "cell_type": "markdown",
   "metadata": {
    "tags": []
   },
   "source": [
    "## Updated Parameter Estimates\n",
    "p_checkin_written: .408 (1-a)\n",
    "\n",
    "p_checkin_clerk: .336 (1-a)\n",
    "\n",
    "p_checkin_camera: .137 (1-a)\n",
    "\n",
    "p_checkin_driving: .119 (1-a)\n",
    "\n",
    "p_checkin_fail: a\n",
    "\n",
    "---\n",
    "p_written_fail: .55\n",
    "\n",
    "p_road_fail: .456\n",
    "\n",
    "p_clerk_fail: a/4"
   ]
  },
  {
   "cell_type": "markdown",
   "metadata": {
    "tags": []
   },
   "source": [
    "# How many people go to the DMV?\n",
    "https://www.dmv.ca.gov/portal/dmv-research-reports/department-of-motor-vehicles-dmv-performance-reports/ gives us the total number of vechicles registered at the dmv. We can scale this to total number of arrivals. We also have the number of offices in 2022. https://www.dmv.ca.gov/portal/file/california-dmv-statistics-pdf/, which shouldnt be far off from the number in 2017"
   ]
  },
  {
   "cell_type": "code",
   "execution_count": 15,
   "metadata": {},
   "outputs": [
    {
     "data": {
      "text/plain": [
       "1306.1516404491233"
      ]
     },
     "execution_count": 15,
     "metadata": {},
     "output_type": "execute_result"
    }
   ],
   "source": [
    "# Approx people per day at the dmv\n",
    "bussiness_days_year = 260\n",
    "success_rate = 2/3\n",
    "prob_registering = .127\n",
    "num_vechicles_registered = 4974226\n",
    "num_dmvs = 173\n",
    "\n",
    "\n",
    "total_arrivals = num_vechicles_registered/(success_rate*prob_registering)\n",
    "\n",
    "total_arrivals = total_arrivals/bussiness_days_year # Per day\n",
    "total_arrivals = total_arrivals/num_dmvs # Per dmv\n",
    "# total_arrivals = total_arrivals / 9.5 # Per hour\n",
    "total_arrivals"
   ]
  },
  {
   "cell_type": "markdown",
   "metadata": {},
   "source": [
    "We would like to have an average of around 1306 people visit the dmv per day. We also have 2 busy periods, one in the morning and one during lunch."
   ]
  },
  {
   "cell_type": "markdown",
   "metadata": {
    "tags": []
   },
   "source": [
    "## Parameter Estimates\n",
    "morning_rush_end = 0.5 # until 8:00\n",
    "\n",
    "lunch_rush_start = 3.5 # 11:00 start\n",
    "\n",
    "lunch_rush_end = 6.5 # 2:00 end\n",
    "\n",
    "---\n",
    "\n",
    "decreased_arrival_rate = 110\n",
    "\n",
    "increased_arrival_rate = 160"
   ]
  },
  {
   "cell_type": "code",
   "execution_count": 14,
   "metadata": {
    "tags": []
   },
   "outputs": [
    {
     "data": {
      "text/plain": [
       "1307.0"
      ]
     },
     "execution_count": 14,
     "metadata": {},
     "output_type": "execute_result"
    }
   ],
   "source": [
    "weights = [1,.5,3,3,3]\n",
    "rates = [50,162,115,162,115]\n",
    "np.dot(weights,rates)"
   ]
  }
 ],
 "metadata": {
  "kernelspec": {
   "display_name": "Python 3 (ipykernel)",
   "language": "python",
   "name": "python3"
  },
  "language_info": {
   "codemirror_mode": {
    "name": "ipython",
    "version": 3
   },
   "file_extension": ".py",
   "mimetype": "text/x-python",
   "name": "python",
   "nbconvert_exporter": "python",
   "pygments_lexer": "ipython3",
   "version": "3.9.7"
  }
 },
 "nbformat": 4,
 "nbformat_minor": 4
}
