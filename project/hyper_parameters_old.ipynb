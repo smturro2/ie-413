{
 "cells": [
  {
   "cell_type": "code",
   "execution_count": 2,
   "metadata": {},
   "outputs": [],
   "source": [
    "import numpy as np\n",
    "import pandas as pd\n",
    "import matplotlib.pyplot as plt"
   ]
  },
  {
   "cell_type": "markdown",
   "metadata": {
    "tags": []
   },
   "source": [
    "# How many people go to the DMV?\n",
    "http://answers.google.com/answers/threadview/id/531251.html\n",
    "\n",
    "The number of DMV visits in the us per year: 178.8 million\n",
    "\n",
    "Cook county population/us population: 5.15/329.5 = .0156\n",
    "\n",
    "num dmvs in cook county: 9"
   ]
  },
  {
   "cell_type": "code",
   "execution_count": 18,
   "metadata": {},
   "outputs": [
    {
     "data": {
      "text/plain": [
       "125.47368421052634"
      ]
     },
     "execution_count": 18,
     "metadata": {},
     "output_type": "execute_result"
    }
   ],
   "source": [
    "# Approx people per day at the dmv\n",
    "bussiness_days_year = 260\n",
    "num_per_day = (178.8*.0156/bussiness_days_year)/9 * 1000000\n",
    "num_per_hour = num_per_day/9.5\n",
    "num_per_hour"
   ]
  },
  {
   "cell_type": "markdown",
   "metadata": {},
   "source": [
    "We would like to have an average of around 125 people visit the dmv per day. We also have 2 busy periods, one in the morning and one during lunch."
   ]
  },
  {
   "cell_type": "code",
   "execution_count": 27,
   "metadata": {
    "tags": []
   },
   "outputs": [
    {
     "data": {
      "text/plain": [
       "128.42000000000002"
      ]
     },
     "execution_count": 27,
     "metadata": {},
     "output_type": "execute_result"
    }
   ],
   "source": [
    "weights = [.0526,.3158,.3158,.3158]\n",
    "rates = [160,110,160,110]\n",
    "np.dot(weights,rates)"
   ]
  },
  {
   "cell_type": "markdown",
   "metadata": {
    "tags": []
   },
   "source": [
    "## Parameter Estimates\n",
    "morning_rush_end = 0.5 # until 8:00\n",
    "\n",
    "lunch_rush_start = 3.5 # 11:00 start\n",
    "\n",
    "lunch_rush_end = 6.5 # 2:00 end\n",
    "\n",
    "---\n",
    "\n",
    "decreased_arrival_rate = 110\n",
    "\n",
    "increased_arrival_rate = 160"
   ]
  },
  {
   "cell_type": "markdown",
   "metadata": {},
   "source": [
    "# Why do people go to the DMV?\n",
    "https://yogov.org/blog/most-popular-reasons-visit-dmv/\n",
    "\n",
    "This data is from california.\n",
    "\n",
    "| Percent | Reason                                                                       |\n",
    "|---------|------------------------------------------------------------------------------|\n",
    "| 11.9    | behind the wheel                                                             |\n",
    "| 5.8     | transfer vechicle title                                                      |\n",
    "| 15.3    | permit Test                                                                  |\n",
    "| 25.5    | First license                                                                |\n",
    "| 15.1    | Other (changing address, changing names, getting license plates, and others) |\n",
    "| 13.7    | Renew License                                                                |\n",
    "| 12.7    | Register Vehicle                                                             |"
   ]
  },
  {
   "cell_type": "markdown",
   "metadata": {},
   "source": [
    "Condense"
   ]
  },
  {
   "cell_type": "markdown",
   "metadata": {},
   "source": [
    "| Percent            | Reason                    | Actions needed |\n",
    "|--------------------|---------------------------|----------------|\n",
    "| 11.9               | Driving Test              | Camera,RT      |\n",
    "| 5.8+15.1+12.7=33.6 | No Test                   |                |\n",
    "| 25.5+15.3=40.8     | permit test/First license | Camera,WT      |\n",
    "| 13.7               | Renew Licese              | Camera         |"
   ]
  },
  {
   "cell_type": "markdown",
   "metadata": {
    "jp-MarkdownHeadingCollapsed": true,
    "tags": []
   },
   "source": [
    "## Parameter Estimates\n",
    "p_checkin_camera: 11.9+40.8+13.7 = 66.4\n",
    "\n",
    "p_checkin_clerk: 33.6\n",
    "\n",
    "---\n",
    "p_camera_clerk: 13.7/66.4 = 20.6\n",
    "\n",
    "p_camera_roadtest: 11.9/66.4 = 18\n",
    "\n",
    "p_camera_writtentest: 40.8/66.4 = 61.4"
   ]
  }
 ],
 "metadata": {
  "kernelspec": {
   "display_name": "Python 3 (ipykernel)",
   "language": "python",
   "name": "python3"
  },
  "language_info": {
   "codemirror_mode": {
    "name": "ipython",
    "version": 3
   },
   "file_extension": ".py",
   "mimetype": "text/x-python",
   "name": "python",
   "nbconvert_exporter": "python",
   "pygments_lexer": "ipython3",
   "version": "3.9.7"
  }
 },
 "nbformat": 4,
 "nbformat_minor": 4
}