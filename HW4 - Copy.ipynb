{
 "cells": [
  {
   "cell_type": "code",
   "execution_count": 1,
   "id": "92a9b35b-8e5d-4e6a-bc53-b7b4d140b346",
   "metadata": {},
   "outputs": [],
   "source": [
    "import pandas as pd\n",
    "import numpy as np\n",
    "from collections import Counter\n",
    "import itertools\n",
    "\n",
    "np.random.seed(13342)"
   ]
  },
  {
   "cell_type": "code",
   "execution_count": 2,
   "id": "8bab0b5f-3ace-41d2-8099-54b17da3868f",
   "metadata": {},
   "outputs": [],
   "source": [
    "A = np.array([1,2,3,4,5,6])\n",
    "B = np.array([1,1,1,1,8,9])\n",
    "C = np.array([2,2,3,4,5,5])\n",
    "D = np.array([1,2,2,2,7,7]) \n",
    "E = np.array([1,2,2,3,4,9])\n",
    "F = np.array([3,3,3,4,4,4])\n",
    "G = np.array([2,2,2,2,4,9])\n",
    "H = np.array([1,1,1,5,6,7])\n",
    "I = np.array([2,2,3,4,4,6])\n"
   ]
  },
  {
   "cell_type": "code",
   "execution_count": 3,
   "id": "507124da-cfa6-446c-83b6-f7ab34355b28",
   "metadata": {},
   "outputs": [],
   "source": [
    "def compare_rolls(all_dice, names, num_iter = 1000):\n",
    "    \n",
    "    # Wins, ties, max roll, and num tie participant storage\n",
    "    counts = Counter()\n",
    "    tie_counts = Counter()\n",
    "    max_roll_counts = Counter()\n",
    "    xway_tie_counts = Counter()\n",
    "    \n",
    "    for i in range(num_iter):\n",
    "\n",
    "        # Random choice\n",
    "        rolls = list(map(np.random.choice, all_dice))\n",
    "    \n",
    "        # Store rolls, get max, and loc winning dice\n",
    "        roll_storage = pd.DataFrame(data = rolls, index = names, columns = [\"Roll\"])\n",
    "        max_roll = roll_storage.max().item()\n",
    "        winners = roll_storage.loc[roll_storage['Roll'] == max_roll]\n",
    "        \n",
    "        # Count distribution of winning roll\n",
    "        max_roll_counts[max_roll] += 1\n",
    "        \n",
    "        # Count distribution of ties with shared equity and wins\n",
    "        if len(winners.index) > 1:\n",
    "            xway_tie_counts[len(winners.index)] += 1\n",
    "            for i in winners.index:\n",
    "                tie_counts[i] += 1 / len(winners.index)\n",
    "        else:\n",
    "            for i in winners.index:\n",
    "                counts[i] += 1\n",
    "    \n",
    "    return counts, tie_counts, max_roll_counts, xway_tie_counts"
   ]
  },
  {
   "cell_type": "code",
   "execution_count": 4,
   "id": "a85be462-12f3-4868-8412-e5f2c2f650e3",
   "metadata": {},
   "outputs": [],
   "source": [
    "list_of_dice = [A,B,C,D,E,F,G,H,I]\n",
    "list_of_names = [\"A\", \"B\", \"C\", \"D\", \"E\", \"F\", \"G\", \"H\", \"I\"]"
   ]
  },
  {
   "cell_type": "code",
   "execution_count": 5,
   "id": "755ff03c-2beb-4542-9f0c-6a61265cb968",
   "metadata": {},
   "outputs": [
    {
     "name": "stdout",
     "output_type": "stream",
     "text": [
      "Wins only:\n"
     ]
    },
    {
     "data": {
      "text/plain": [
       "[('B', 2296),\n",
       " ('D', 1249),\n",
       " ('E', 1183),\n",
       " ('G', 1171),\n",
       " ('H', 1125),\n",
       " ('A', 497),\n",
       " ('C', 316),\n",
       " ('I', 309),\n",
       " ('F', 70)]"
      ]
     },
     "metadata": {},
     "output_type": "display_data"
    },
    {
     "name": "stdout",
     "output_type": "stream",
     "text": [
      "\n",
      "Shared ties included:\n"
     ]
    },
    {
     "data": {
      "text/plain": [
       "[('B', 2546.3333333333335),\n",
       " ('E', 1474.7),\n",
       " ('G', 1446.2333333333333),\n",
       " ('H', 1394.1666666666667),\n",
       " ('D', 1369.5),\n",
       " ('A', 683.1500000000002),\n",
       " ('C', 465.8166666666666),\n",
       " ('I', 447.69999999999993),\n",
       " ('F', 172.39999999999986)]"
      ]
     },
     "metadata": {},
     "output_type": "display_data"
    }
   ],
   "source": [
    "wins, ties, max_rolls, xway_ties = compare_rolls(list_of_dice, list_of_names, num_iter = 10000)\n",
    "total = wins + ties\n",
    "\n",
    "sorted_wins = wins.most_common()\n",
    "sorted_ties = ties.most_common()\n",
    "sorted_total = total.most_common()\n",
    "print(\"Wins only:\")\n",
    "display(sorted_wins)\n",
    "print(\"\\nShared ties included:\")\n",
    "display(sorted_total)"
   ]
  },
  {
   "cell_type": "code",
   "execution_count": 6,
   "id": "6bb64bc9-2a64-4765-989c-a2166b8d8e5f",
   "metadata": {},
   "outputs": [
    {
     "name": "stdout",
     "output_type": "stream",
     "text": [
      "Max roll distribution:\n"
     ]
    },
    {
     "data": {
      "text/plain": [
       "[(9, 4214), (7, 2049), (8, 1146), (6, 1140), (5, 900), (4, 494), (3, 57)]"
      ]
     },
     "metadata": {},
     "output_type": "display_data"
    },
    {
     "name": "stdout",
     "output_type": "stream",
     "text": [
      "\n",
      "Xway tie distribution:\n"
     ]
    },
    {
     "data": {
      "text/plain": [
       "[(2, 1541), (3, 215), (4, 26), (5, 2)]"
      ]
     },
     "metadata": {},
     "output_type": "display_data"
    }
   ],
   "source": [
    "print(\"Max roll distribution:\")\n",
    "display(max_rolls.most_common())\n",
    "print(\"\\nXway tie distribution:\")\n",
    "display(xway_ties.most_common())"
   ]
  },
  {
   "cell_type": "markdown",
   "id": "36bc8510-47fe-46aa-a763-99e90fe6e9e1",
   "metadata": {},
   "source": [
    "## Testing with Optimal Die"
   ]
  },
  {
   "cell_type": "code",
   "execution_count": 7,
   "id": "28edc312-f6bd-4a26-b61a-fe7f91f7f931",
   "metadata": {},
   "outputs": [],
   "source": [
    "opt = np.array([1,1,1,1,8,9])\n",
    "opt_list_of_dice = [A,B,C,D,E,F,G,H,I,opt]\n",
    "opt_names = list_of_names + [\"opt\"]"
   ]
  },
  {
   "cell_type": "code",
   "execution_count": null,
   "id": "16ba425c-6540-4d8e-9e30-10cd6d3d6d29",
   "metadata": {},
   "outputs": [
    {
     "name": "stdout",
     "output_type": "stream",
     "text": [
      "Wins only:\n"
     ]
    },
    {
     "data": {
      "text/plain": [
       "[('opt', 876),\n",
       " ('B', 869),\n",
       " ('G', 518),\n",
       " ('E', 489),\n",
       " ('D', 419),\n",
       " ('H', 335),\n",
       " ('A', 165),\n",
       " ('I', 103),\n",
       " ('C', 98),\n",
       " ('F', 20)]"
      ]
     },
     "metadata": {},
     "output_type": "display_data"
    },
    {
     "name": "stdout",
     "output_type": "stream",
     "text": [
      "\n",
      "Shared ties included:\n"
     ]
    },
    {
     "data": {
      "text/plain": [
       "[('opt', 1091.2500000000002),\n",
       " ('B', 1075.9166666666667),\n",
       " ('G', 685.4000000000001),\n",
       " ('E', 655.9500000000002),\n",
       " ('D', 463.5),\n",
       " ('H', 429.8333333333333),\n",
       " ('A', 229.95000000000002),\n",
       " ('I', 158.56666666666672),\n",
       " ('C', 151.98333333333335),\n",
       " ('F', 57.650000000000006)]"
      ]
     },
     "metadata": {},
     "output_type": "display_data"
    }
   ],
   "source": [
    "wins, ties, max_rolls, xway_ties = compare_rolls(opt_list_of_dice, opt_names, num_iter = 5000)\n",
    "total = wins + ties\n",
    "\n",
    "sorted_wins = wins.most_common()\n",
    "sorted_ties = ties.most_common()\n",
    "sorted_total = total.most_common()\n",
    "print(\"Wins only:\")\n",
    "display(sorted_wins)\n",
    "print(\"\\nShared ties included:\")\n",
    "display(sorted_total)"
   ]
  },
  {
   "cell_type": "code",
   "execution_count": null,
   "id": "f6e5a507-89d7-4c1c-a187-8cc34684937c",
   "metadata": {},
   "outputs": [
    {
     "name": "stdout",
     "output_type": "stream",
     "text": [
      "Max roll distribution:\n"
     ]
    },
    {
     "data": {
      "text/plain": [
       "[(9, 2610), (8, 865), (7, 669), (6, 372), (5, 289), (4, 171), (3, 24)]"
      ]
     },
     "metadata": {},
     "output_type": "display_data"
    },
    {
     "name": "stdout",
     "output_type": "stream",
     "text": [
      "\n",
      "Xway tie distribution:\n"
     ]
    },
    {
     "data": {
      "text/plain": [
       "[(2, 952), (3, 140), (4, 14), (5, 2)]"
      ]
     },
     "metadata": {},
     "output_type": "display_data"
    }
   ],
   "source": [
    "print(\"Max roll distribution:\")\n",
    "display(max_rolls.most_common())\n",
    "print(\"\\nXway tie distribution:\")\n",
    "display(xway_ties.most_common())"
   ]
  },
  {
   "cell_type": "code",
   "execution_count": null,
   "id": "feae415a-1fae-4710-a814-d7399b372744",
   "metadata": {},
   "outputs": [
    {
     "data": {
      "text/plain": [
       "Counter({'D': 463.5,\n",
       "         'G': 685.4000000000001,\n",
       "         'H': 429.8333333333333,\n",
       "         'opt': 1091.2500000000002,\n",
       "         'I': 158.56666666666672,\n",
       "         'B': 1075.9166666666667,\n",
       "         'E': 655.9500000000002,\n",
       "         'A': 229.95000000000002,\n",
       "         'C': 151.98333333333335,\n",
       "         'F': 57.650000000000006})"
      ]
     },
     "execution_count": 10,
     "metadata": {},
     "output_type": "execute_result"
    }
   ],
   "source": [
    "wins + ties"
   ]
  },
  {
   "cell_type": "code",
   "execution_count": null,
   "id": "c89b13f4-2def-4509-b64f-e3ff7dad6f3d",
   "metadata": {},
   "outputs": [
    {
     "data": {
      "text/plain": [
       "['A', 'B', 'C', 'D', 'E', 'F', 'G', 'H', 'I', 'opt']"
      ]
     },
     "execution_count": 11,
     "metadata": {},
     "output_type": "execute_result"
    }
   ],
   "source": [
    "opt_names"
   ]
  },
  {
   "cell_type": "markdown",
   "id": "06c9e12e-818b-49f4-802d-2944829d1c3c",
   "metadata": {},
   "source": [
    "# Bonus Question"
   ]
  },
  {
   "cell_type": "markdown",
   "id": "66ab7412-480d-4d3c-bcb4-bf439dd46024",
   "metadata": {},
   "source": [
    "Let $\\vec S$ be our vector of values for the dice"
   ]
  },
  {
   "cell_type": "markdown",
   "id": "829187ed-db9b-4b3b-a0d8-ed5f1a315e29",
   "metadata": {},
   "source": [
    "$$ \\max_\\vec S \\Pr(\\text{Win} | \\vec S)$$"
   ]
  },
  {
   "cell_type": "markdown",
   "id": "96c41438-b8c5-4a09-a254-e7b09f85f363",
   "metadata": {},
   "source": [
    "Consider all possible outcomes of our dice x.\n",
    "$$ \\Pr(\\text{Win} | \\vec S) = \\sum_{x\\in \\vec S} \\Pr(\\text{Win} | \\vec S, x) \\Pr(x| \\vec S) $$\n",
    "\n",
    "$\\Pr(x| \\vec S) = \\frac{1}{6}$ since each side is as equally likely. Also if given x we do not need S\n",
    "\n",
    "$$ \\Pr(\\text{Win} | \\vec S) = \\frac{1}{6} \\sum_{x\\in \\vec S} \\Pr(\\text{Win} | x) $$"
   ]
  },
  {
   "cell_type": "markdown",
   "id": "04dc8ed1-8467-424a-84e5-41d1d3aa3808",
   "metadata": {},
   "source": [
    "Let y denote the maximum value of the other dice"
   ]
  },
  {
   "cell_type": "markdown",
   "id": "7a91d617-529e-44ab-bf51-30e24af7fe27",
   "metadata": {},
   "source": [
    "$$\\Pr(\\text{Win} | x) = \\Pr(y <= x) = \\sum_{y=0}^x \\Pr(y)$$"
   ]
  },
  {
   "cell_type": "markdown",
   "id": "6b019846-bcc6-48bd-ac95-bf40f0e51070",
   "metadata": {},
   "source": [
    "Finally we got back to our original goal\n",
    "$$ \\max_\\vec S \\frac{1}{6} \\sum_{x\\in \\vec S} \\sum_{y=0}^x \\Pr(y) $$\n",
    "$$ \\max_\\vec S \\sum_{x\\in \\vec S} \\sum_{y=0}^x \\Pr(y) $$\n",
    "We will use grid search to find the optimal value, and use the simulation results as an estimate for $\\Pr(y)$"
   ]
  },
  {
   "cell_type": "code",
   "execution_count": null,
   "id": "60493bfd-b436-45bb-bb46-476c66267b58",
   "metadata": {},
   "outputs": [
    {
     "data": {
      "text/plain": [
       "array([0.    , 0.    , 0.    , 0.0048, 0.0342, 0.0578, 0.0744, 0.1338,\n",
       "       0.173 , 0.522 ])"
      ]
     },
     "execution_count": 13,
     "metadata": {},
     "output_type": "execute_result"
    }
   ],
   "source": [
    "# Get an array for Pr(y)\n",
    "max_rolls_dict = np.array(max_rolls.most_common(),dtype=int)\n",
    "max_rolls_distr = np.zeros(10)\n",
    "max_rolls_distr[max_rolls_dict[:,0]] = max_rolls_dict[:,1]\n",
    "max_rolls_distr= max_rolls_distr / sum(max_rolls_distr)\n",
    "max_rolls_distr"
   ]
  },
  {
   "cell_type": "code",
   "execution_count": null,
   "id": "8ac1a77d-a3c4-4930-8129-19ba587ad4a4",
   "metadata": {},
   "outputs": [
    {
     "data": {
      "text/plain": [
       "(81, 6)"
      ]
     },
     "execution_count": 14,
     "metadata": {},
     "output_type": "execute_result"
    }
   ],
   "source": [
    "# Get all possible dice\n",
    "import itertools\n",
    "\n",
    "numbers = [1, 2, 3, 4, 5, 6, 7, 8, 9]\n",
    "target = 21\n",
    "dice = [seq for i in range(len(numbers), 0, -1)\n",
    "          for seq in itertools.combinations_with_replacement(numbers, i)\n",
    "          if sum(seq) == target and len(seq) == 6]\n",
    "\n",
    "dice = np.array(dice)\n",
    "dice.shape"
   ]
  },
  {
   "cell_type": "code",
   "execution_count": null,
   "id": "1f1aed30-7717-49b9-b3b7-324ce81579ce",
   "metadata": {},
   "outputs": [
    {
     "name": "stdout",
     "output_type": "stream",
     "text": [
      "Best Dice:\n",
      "[1 1 1 1 8 9]\n",
      "Probability of winning:\n",
      "0.24633333333333332\n"
     ]
    }
   ],
   "source": [
    "max_val = 0\n",
    "max_dice = np.zeros(6)\n",
    "\n",
    "for s in dice:\n",
    "    val = 0\n",
    "    for x in s:\n",
    "        for y in range(0,x+1):\n",
    "            val += max_rolls_distr[y]\n",
    "    if val > max_val:\n",
    "        max_val = val\n",
    "        max_dice = s\n",
    "    elif val == max_val:\n",
    "        max_dice = list(max_dice)\n",
    "        max_dice.append(s)\n",
    "\n",
    "        \n",
    "print(\"Best Dice:\")\n",
    "print(max_dice)\n",
    "\n",
    "print(\"Probability of winning:\")\n",
    "print(max_val/6)"
   ]
  },
  {
   "cell_type": "markdown",
   "id": "62ecf5e2-5fe3-43b4-9e22-b161fa681461",
   "metadata": {},
   "source": [
    "## Testing Bonus Question with custom scenario\n",
    "If all the other dice are like dice F, then 111189 would not be the optimal dice. "
   ]
  },
  {
   "cell_type": "code",
   "execution_count": 18,
   "id": "3fb7b76b-da1f-4fff-a823-2cb62bf6d020",
   "metadata": {},
   "outputs": [],
   "source": [
    "# Set the dice\n",
    "list_of_dice = [F for i in range(9)]\n",
    "list_of_names = [\"A\", \"B\", \"C\", \"D\", \"E\", \"F\", \"G\", \"H\", \"I\"]\n",
    "wins, ties, max_rolls, xway_ties = compare_rolls(list_of_dice, list_of_names, num_iter = 10000)\n",
    "total = wins + ties"
   ]
  },
  {
   "cell_type": "code",
   "execution_count": 19,
   "id": "c62ba532-954b-4657-b534-813e484834c0",
   "metadata": {},
   "outputs": [
    {
     "name": "stdout",
     "output_type": "stream",
     "text": [
      "[[   4 9979]\n",
      " [   3   21]]\n"
     ]
    },
    {
     "data": {
      "text/plain": [
       "array([   0.,    0.,    0.,   21., 9979.,    0.,    0.,    0.,    0.])"
      ]
     },
     "execution_count": 19,
     "metadata": {},
     "output_type": "execute_result"
    }
   ],
   "source": [
    "max_rolls_dict = np.array(max_rolls.most_common(),dtype=int)\n",
    "print(max_rolls_dict)\n",
    "\n",
    "max_rolls_distr = np.zeros(9)\n",
    "max_rolls_distr[max_rolls_dict[:,0]] = max_rolls_dict[:,1]\n",
    "max_rolls_distr"
   ]
  },
  {
   "cell_type": "code",
   "execution_count": 20,
   "id": "11eaf976-b935-4baa-b4aa-241d60f59028",
   "metadata": {},
   "outputs": [
    {
     "ename": "IndexError",
     "evalue": "index 9 is out of bounds for axis 0 with size 9",
     "output_type": "error",
     "traceback": [
      "\u001b[1;31m---------------------------------------------------------------------------\u001b[0m",
      "\u001b[1;31mIndexError\u001b[0m                                Traceback (most recent call last)",
      "\u001b[1;32mC:\\Users\\SCOTTT~1\\AppData\\Local\\Temp/ipykernel_10888/2155917681.py\u001b[0m in \u001b[0;36m<module>\u001b[1;34m\u001b[0m\n\u001b[0;32m      6\u001b[0m     \u001b[1;32mfor\u001b[0m \u001b[0mx\u001b[0m \u001b[1;32min\u001b[0m \u001b[0ms\u001b[0m\u001b[1;33m:\u001b[0m\u001b[1;33m\u001b[0m\u001b[1;33m\u001b[0m\u001b[0m\n\u001b[0;32m      7\u001b[0m         \u001b[1;32mfor\u001b[0m \u001b[0my\u001b[0m \u001b[1;32min\u001b[0m \u001b[0mrange\u001b[0m\u001b[1;33m(\u001b[0m\u001b[1;36m0\u001b[0m\u001b[1;33m,\u001b[0m\u001b[0mx\u001b[0m\u001b[1;33m+\u001b[0m\u001b[1;36m1\u001b[0m\u001b[1;33m)\u001b[0m\u001b[1;33m:\u001b[0m\u001b[1;33m\u001b[0m\u001b[1;33m\u001b[0m\u001b[0m\n\u001b[1;32m----> 8\u001b[1;33m             \u001b[0mval\u001b[0m \u001b[1;33m+=\u001b[0m \u001b[0mmax_rolls_distr\u001b[0m\u001b[1;33m[\u001b[0m\u001b[0my\u001b[0m\u001b[1;33m]\u001b[0m\u001b[1;33m\u001b[0m\u001b[1;33m\u001b[0m\u001b[0m\n\u001b[0m\u001b[0;32m      9\u001b[0m     \u001b[1;32mif\u001b[0m \u001b[0mval\u001b[0m \u001b[1;33m>\u001b[0m \u001b[0mmax_val\u001b[0m\u001b[1;33m:\u001b[0m\u001b[1;33m\u001b[0m\u001b[1;33m\u001b[0m\u001b[0m\n\u001b[0;32m     10\u001b[0m         \u001b[0mmax_val\u001b[0m \u001b[1;33m=\u001b[0m \u001b[0mval\u001b[0m\u001b[1;33m\u001b[0m\u001b[1;33m\u001b[0m\u001b[0m\n",
      "\u001b[1;31mIndexError\u001b[0m: index 9 is out of bounds for axis 0 with size 9"
     ]
    }
   ],
   "source": [
    "max_val = 0\n",
    "max_dice = np.zeros(6)\n",
    "\n",
    "for s in dice:\n",
    "    val = 0\n",
    "    for x in s:\n",
    "        for y in range(0,x+1):\n",
    "            val += max_rolls_distr[y]\n",
    "    if val > max_val:\n",
    "        max_val = val\n",
    "        max_dice = s\n",
    "    elif val == max_val:\n",
    "        max_dice = list(max_dice)\n",
    "        max_dice.append(s)\n",
    "\n",
    "        \n",
    "print(\"Best Dice:\")\n",
    "print(max_dice)\n",
    "\n",
    "print(\"Probability of winning:\")\n",
    "print(max_val/6)"
   ]
  }
 ],
 "metadata": {
  "kernelspec": {
   "display_name": "Python 3 (ipykernel)",
   "language": "python",
   "name": "python3"
  },
  "language_info": {
   "codemirror_mode": {
    "name": "ipython",
    "version": 3
   },
   "file_extension": ".py",
   "mimetype": "text/x-python",
   "name": "python",
   "nbconvert_exporter": "python",
   "pygments_lexer": "ipython3",
   "version": "3.9.7"
  }
 },
 "nbformat": 4,
 "nbformat_minor": 5
}
